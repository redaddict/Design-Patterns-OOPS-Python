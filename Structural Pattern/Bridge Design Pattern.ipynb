{
 "cells": [
  {
   "cell_type": "markdown",
   "metadata": {},
   "source": [
    "*Bridge Design Pattern*\n",
    "\n",
    "The Bridge pattern is similar to the Adapter pattern except in the intent that you developed it. \n",
    "The Bridge is an approach to refactor already existing code, whereas the Adapter creates an interface on top of existing code through existing available means without refactoring any existing code or interfaces.\n",
    "The motivation for converting your code to the Bridge pattern is that it may be tightly coupled. \n",
    "There is logic and abstraction close together that is limiting your choices in how you can extend your\n",
    "solution in the way that you need.\n",
    "E.g., you may have one Car class, that produces a very nice car. But you would like the option of\n",
    "varying the design a little, or outsourcing responsibility of creating the different components"
   ]
  },
  {
   "cell_type": "code",
   "execution_count": 1,
   "metadata": {},
   "outputs": [
    {
     "name": "stdout",
     "output_type": "stream",
     "text": [
      "Drawing a Circle with Red Color\n",
      "Drawing a Square with Blue Color\n"
     ]
    }
   ],
   "source": [
    "from abc import ABC, abstractmethod\n",
    "\n",
    "# Abstraction\n",
    "class Shape(ABC):\n",
    "    def __init__(self, color):\n",
    "        self.color = color\n",
    "\n",
    "    @abstractmethod\n",
    "    def draw(self):\n",
    "        pass\n",
    "\n",
    "# Concrete Abstraction\n",
    "class Circle(Shape):\n",
    "    def draw(self):\n",
    "        return f\"Drawing a Circle with {self.color.apply_color()}\"\n",
    "\n",
    "class Square(Shape):\n",
    "    def draw(self):\n",
    "        return f\"Drawing a Square with {self.color.apply_color()}\"\n",
    "\n",
    "# Implementation\n",
    "class Color(ABC):\n",
    "    @abstractmethod\n",
    "    def apply_color(self):\n",
    "        pass\n",
    "\n",
    "# Concrete Implementation\n",
    "class RedColor(Color):\n",
    "    def apply_color(self):\n",
    "        return \"Red Color\"\n",
    "\n",
    "class BlueColor(Color):\n",
    "    def apply_color(self):\n",
    "        return \"Blue Color\"\n",
    "\n",
    "# Client Code\n",
    "red_circle = Circle(RedColor())\n",
    "blue_square = Square(BlueColor())\n",
    "\n",
    "print(red_circle.draw())   # Drawing a Circle with Red Color\n",
    "print(blue_square.draw())  # Drawing a Square with Blue Color\n"
   ]
  },
  {
   "cell_type": "markdown",
   "metadata": {},
   "source": [
    "Abstraction (Shape):\n",
    "This is the abstraction class that defines the high-level interface. In this case, it's the Shape class with a method draw. Concrete implementations of shapes will subclass this abstraction.\n",
    "\n",
    "Concrete Abstraction (Circle, Square):\n",
    "These are concrete classes that extend the abstraction. They implement the draw method and use a Color object for the actual implementation.\n",
    "\n",
    "Implementation (Color):\n",
    "This is the interface that defines the low-level implementation. In this case, it's the Color class with a method apply_color. Concrete implementations of colors will subclass this interface.\n",
    "\n",
    "Concrete Implementation (RedColor, BlueColor):\n",
    "These are concrete classes that implement the Color interface. They provide specific implementations for applying colors.\n",
    "\n",
    "Client Code:\n",
    "The client code creates instances of concrete shapes (Circle, Square) and associates them with specific concrete implementations of colors (RedColor, BlueColor). The draw method of each shape uses the color's apply_color method to get the final result."
   ]
  }
 ],
 "metadata": {
  "kernelspec": {
   "display_name": "Python 3",
   "language": "python",
   "name": "python3"
  },
  "language_info": {
   "codemirror_mode": {
    "name": "ipython",
    "version": 3
   },
   "file_extension": ".py",
   "mimetype": "text/x-python",
   "name": "python",
   "nbconvert_exporter": "python",
   "pygments_lexer": "ipython3",
   "version": "3.12.0"
  }
 },
 "nbformat": 4,
 "nbformat_minor": 2
}
