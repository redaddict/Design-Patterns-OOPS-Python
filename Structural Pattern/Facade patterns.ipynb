{
 "cells": [
  {
   "cell_type": "markdown",
   "metadata": {},
   "source": [
    "*Facede pattern*\n",
    "\n",
    "Sometimes you have a system that becomes quite complex over time as more features are added or\n",
    "modified. It may be useful to provide a simplified API over it. This is the Facade pattern."
   ]
  },
  {
   "cell_type": "code",
   "execution_count": 1,
   "metadata": {},
   "outputs": [
    {
     "name": "stdout",
     "output_type": "stream",
     "text": [
      "Subsystem A: Operation A\n",
      "Subsystem B: Operation B\n",
      "Subsystem C: Operation C\n"
     ]
    }
   ],
   "source": [
    "# Subsystem components\n",
    "class SubsystemA:\n",
    "    def operation_a(self):\n",
    "        return \"Subsystem A: Operation A\"\n",
    "\n",
    "class SubsystemB:\n",
    "    def operation_b(self):\n",
    "        return \"Subsystem B: Operation B\"\n",
    "\n",
    "class SubsystemC:\n",
    "    def operation_c(self):\n",
    "        return \"Subsystem C: Operation C\"\n",
    "\n",
    "# Facade\n",
    "class Facade:\n",
    "    def __init__(self):\n",
    "        self.subsystem_a = SubsystemA()\n",
    "        self.subsystem_b = SubsystemB()\n",
    "        self.subsystem_c = SubsystemC()\n",
    "\n",
    "    def operation(self):\n",
    "        result = []\n",
    "        result.append(self.subsystem_a.operation_a())\n",
    "        result.append(self.subsystem_b.operation_b())\n",
    "        result.append(self.subsystem_c.operation_c())\n",
    "        return result\n",
    "\n",
    "# Client code using the Facade\n",
    "def client_code(facade):\n",
    "    operations_result = facade.operation()\n",
    "    for result in operations_result:\n",
    "        print(result)\n",
    "\n",
    "# Using the Facade to simplify interactions with the subsystem\n",
    "facade = Facade()\n",
    "client_code(facade)\n"
   ]
  },
  {
   "cell_type": "markdown",
   "metadata": {},
   "source": [
    "In this example:\n",
    "\n",
    "Subsystem Components (SubsystemA, SubsystemB, SubsystemC):\n",
    "These are the components that make up the subsystem. They have their own methods (operation_a, operation_b, operation_c).\n",
    "\n",
    "Facade (Facade):\n",
    "The Facade class provides a simplified interface to the subsystem. It initializes instances of the subsystem components and defines a method (operation) that orchestrates the interactions with the subsystem components.\n",
    "\n",
    "Client Code (client_code function):\n",
    "The client code interacts with the subsystem through the Facade interface. Instead of dealing with the complexities of individual subsystem components, the client calls a single method on the Facade.\n",
    "\n",
    "The Facade pattern helps to hide the complexity of a subsystem and provides a unified interface for clients. It can be particularly useful when dealing with complex systems or when you want to encapsulate the details of a subsystem to improve code readability and maintainability. Clients interact with the simplified facade rather than dealing with the subsystem's details directly."
   ]
  }
 ],
 "metadata": {
  "kernelspec": {
   "display_name": "Python 3",
   "language": "python",
   "name": "python3"
  },
  "language_info": {
   "codemirror_mode": {
    "name": "ipython",
    "version": 3
   },
   "file_extension": ".py",
   "mimetype": "text/x-python",
   "name": "python",
   "nbconvert_exporter": "python",
   "pygments_lexer": "ipython3",
   "version": "3.12.0"
  }
 },
 "nbformat": 4,
 "nbformat_minor": 2
}
