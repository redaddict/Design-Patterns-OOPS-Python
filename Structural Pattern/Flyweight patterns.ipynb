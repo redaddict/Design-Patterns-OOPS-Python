{
 "cells": [
  {
   "cell_type": "markdown",
   "metadata": {},
   "source": [
    "*Flyweight pattern*\n",
    "\n",
    "Fly in the term Flyweight means light/not heavy.\n",
    "The Flyweight pattern in Python is a structural design pattern that allows you to share and reuse objects, minimizing memory usage and improving performance. It is particularly useful when dealing with a large number of similar objects by storing shared state externally and passing it to the objects."
   ]
  },
  {
   "cell_type": "markdown",
   "metadata": {},
   "source": [
    "Flyweight Interface: An interface where a flyweight receives its extrinsic attributes.\n",
    "\n",
    "Concrete Flyweight: The flyweight object that stores the intrinsic attributes and implements the\n",
    "interface to apply extrinsic attributes.\n",
    "\n",
    "Unshared Flyweights: Not all flyweights will be shared, the flyweight enables sharing, not\n",
    "enforcing it. It also possible that flyweights can share other flyweights but still not yet be used\n",
    "in any contexts anywhere.\n",
    "\n",
    "Flyweight Factory: Creates and manages flyweights at runtime. It reuses flyweights in\n",
    "memory, or creates a new one in demand.\n",
    "\n",
    "Client: The client application that uses and creates the Flyweight."
   ]
  },
  {
   "cell_type": "code",
   "execution_count": 1,
   "metadata": {},
   "outputs": [
    {
     "name": "stdout",
     "output_type": "stream",
     "text": [
      "Concrete Flyweight: unique_state_1\n",
      "Concrete Flyweight: unique_state_2\n",
      "Concrete Flyweight: unique_state_3\n"
     ]
    }
   ],
   "source": [
    "class Flyweight:\n",
    "    def operation(self, shared_state):\n",
    "        pass\n",
    "\n",
    "# Concrete Flyweight\n",
    "class ConcreteFlyweight(Flyweight):\n",
    "    def operation(self, shared_state):\n",
    "        return f\"Concrete Flyweight: {shared_state}\"\n",
    "\n",
    "# Unshared Concrete Flyweight\n",
    "class UnsharedConcreteFlyweight(Flyweight):\n",
    "    def operation(self, unique_state):\n",
    "        return f\"Unshared Concrete Flyweight: {unique_state}\"\n",
    "\n",
    "# Flyweight Factory\n",
    "class FlyweightFactory:\n",
    "    def __init__(self):\n",
    "        self.flyweights = {}\n",
    "\n",
    "    def get_flyweight(self, key):\n",
    "        if key not in self.flyweights:\n",
    "            self.flyweights[key] = ConcreteFlyweight()\n",
    "        return self.flyweights[key]\n",
    "\n",
    "# Client Code\n",
    "def client_code(factory, shared_state, unique_state):\n",
    "    flyweight = factory.get_flyweight(shared_state)\n",
    "    result = flyweight.operation(unique_state)\n",
    "    print(result)\n",
    "\n",
    "# Example usage\n",
    "factory = FlyweightFactory()\n",
    "\n",
    "client_code(factory, \"shared_state_1\", \"unique_state_1\")\n",
    "client_code(factory, \"shared_state_2\", \"unique_state_2\")\n",
    "client_code(factory, \"shared_state_1\", \"unique_state_3\")\n"
   ]
  },
  {
   "cell_type": "markdown",
   "metadata": {},
   "source": [
    "In this example, Flyweight is the abstract class/interface for flyweights. It declares the method operation which takes the shared state as a parameter.\n",
    "\n",
    "ConcreteFlyweight is a concrete implementation of the flyweight. It stores and operates on shared state.\n",
    "\n",
    "UnsharedConcreteFlyweight is an unshared concrete flyweight that has unique state not shared with other objects.\n",
    "\n",
    "FlyweightFactory is a factory that manages flyweights. It ensures that flyweights are shared and reused.\n",
    "\n",
    "Client Code (client_code function):\n",
    "The client code uses the flyweight factory to get flyweights based on shared state and then calls the operation method, passing unique state."
   ]
  }
 ],
 "metadata": {
  "kernelspec": {
   "display_name": "Python 3",
   "language": "python",
   "name": "python3"
  },
  "language_info": {
   "codemirror_mode": {
    "name": "ipython",
    "version": 3
   },
   "file_extension": ".py",
   "mimetype": "text/x-python",
   "name": "python",
   "nbconvert_exporter": "python",
   "pygments_lexer": "ipython3",
   "version": "3.12.0"
  }
 },
 "nbformat": 4,
 "nbformat_minor": 2
}
