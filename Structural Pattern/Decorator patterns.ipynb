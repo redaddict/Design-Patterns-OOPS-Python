{
 "cells": [
  {
   "cell_type": "markdown",
   "metadata": {},
   "source": [
    "*Decorator Pattern*\n",
    "\n",
    "It is  a structural pattern, that allows you to attach additional responsibilities to an object at runtime.\n",
    "It is used in both the Object Oriented and Functional paradigms.\n",
    "It is different than the Python language feature of Python Decorators in its syntax and complete purpose.\n",
    "It is a similar concept in the way that it is a wrapper, but it also can be applied at runtime dynamically"
   ]
  },
  {
   "cell_type": "markdown",
   "metadata": {},
   "source": [
    "Component Interface: An interface for objects.\n",
    "\n",
    "Component: The object that may be decorated.\n",
    "\n",
    "Decorator: The class that applies the extra responsibilities to the component being decorated.It also implements the same component interface.\n"
   ]
  },
  {
   "cell_type": "code",
   "execution_count": 3,
   "metadata": {},
   "outputs": [
    {
     "name": "stdout",
     "output_type": "stream",
     "text": [
      "Cost of Simple Coffee: 5\n",
      "Cost of Milk Coffee: 7\n",
      "Cost of Sugar Milk Coffee: 8\n"
     ]
    }
   ],
   "source": [
    "# Component interface\n",
    "class Coffee:\n",
    "    def cost(self):\n",
    "        pass\n",
    "\n",
    "# Concrete Component\n",
    "class SimpleCoffee(Coffee):\n",
    "    def cost(self):\n",
    "        return 5\n",
    "\n",
    "# Decorator\n",
    "class CoffeeDecorator(Coffee):\n",
    "    def __init__(self, coffee):\n",
    "        self._coffee = coffee\n",
    "\n",
    "    def cost(self):\n",
    "        return self._coffee.cost()\n",
    "\n",
    "# Concrete Decorator 1\n",
    "class MilkDecorator(CoffeeDecorator):\n",
    "    def cost(self):\n",
    "        return self._coffee.cost() + 2\n",
    "\n",
    "# Concrete Decorator 2\n",
    "class SugarDecorator(CoffeeDecorator):\n",
    "    def cost(self):\n",
    "        return self._coffee.cost() + 1\n",
    "\n",
    "# Client Code\n",
    "simple_coffee = SimpleCoffee()\n",
    "print(\"Cost of Simple Coffee:\", simple_coffee.cost())\n",
    "\n",
    "milk_coffee = MilkDecorator(simple_coffee)\n",
    "print(\"Cost of Milk Coffee:\", milk_coffee.cost())\n",
    "\n",
    "sugar_milk_coffee = SugarDecorator(milk_coffee)\n",
    "print(\"Cost of Sugar Milk Coffee:\", sugar_milk_coffee.cost())\n"
   ]
  },
  {
   "cell_type": "markdown",
   "metadata": {},
   "source": [
    "Coffee is the component interface that declares the method cost.\n",
    "SimpleCoffee is a concrete component that implements the Coffee interface.\n",
    "\n",
    "CoffeeDecorator is the decorator class that also implements the Coffee interface. It has an instance variable to hold a reference to the decorated object.\n",
    "\n",
    "MilkDecorator and SugarDecorator are concrete decorators that add additional functionality to the decorated coffee.\n",
    "\n",
    "The client code demonstrates creating a simple coffee and then decorating it with milk and sugar. Each decorator modifies the cost of the coffee, and the final cost is calculated by composing the decorators.\n",
    "\n",
    "The Decorator pattern allows for flexible composition of behavior, making it easy to add or remove features from objects dynamically."
   ]
  }
 ],
 "metadata": {
  "kernelspec": {
   "display_name": "Python 3",
   "language": "python",
   "name": "python3"
  },
  "language_info": {
   "codemirror_mode": {
    "name": "ipython",
    "version": 3
   },
   "file_extension": ".py",
   "mimetype": "text/x-python",
   "name": "python",
   "nbconvert_exporter": "python",
   "pygments_lexer": "ipython3",
   "version": "3.12.0"
  }
 },
 "nbformat": 4,
 "nbformat_minor": 2
}
