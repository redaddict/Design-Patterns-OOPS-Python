{
 "cells": [
  {
   "cell_type": "markdown",
   "metadata": {},
   "source": [
    "*Proxy pattern*\n",
    "\n",
    "The Proxy design pattern is a class functioning as an interface to another class or object.\n",
    "A Proxy could be for anything, such as a network connection, an object in memory, a file, or anything\n",
    "else you need to provide an abstraction between."
   ]
  },
  {
   "cell_type": "markdown",
   "metadata": {},
   "source": [
    "The Proxy pattern is useful in various scenarios:\n",
    "\n",
    "Virtual Proxy: Used for lazy initialization of the real object, especially when creating the real object is resource-intensive.\n",
    "\n",
    "Protection Proxy: Used to control access rights to the real object, such as providing different levels of access.\n",
    "\n",
    "Remote Proxy: Used to represent an object that is in a different address space, like when dealing with distributed systems.\n",
    "\n",
    "Cache Proxy: Used to manage temporary storage (caching) for expensive operations of the real object."
   ]
  },
  {
   "cell_type": "code",
   "execution_count": 1,
   "metadata": {},
   "outputs": [
    {
     "name": "stdout",
     "output_type": "stream",
     "text": [
      "RealSubject: Handling request\n",
      "Proxy: RealSubject: Handling request\n"
     ]
    }
   ],
   "source": [
    "from abc import ABC, abstractmethod\n",
    "\n",
    "# Subject (Interface)\n",
    "class Subject(ABC):\n",
    "    @abstractmethod\n",
    "    def request(self):\n",
    "        pass\n",
    "\n",
    "# RealSubject\n",
    "class RealSubject(Subject):\n",
    "    def request(self):\n",
    "        return \"RealSubject: Handling request\"\n",
    "\n",
    "# Proxy\n",
    "class Proxy(Subject):\n",
    "    def __init__(self, real_subject):\n",
    "        self._real_subject = real_subject\n",
    "\n",
    "    def request(self):\n",
    "        # Additional control or functionality can be added here\n",
    "        return f\"Proxy: {self._real_subject.request()}\"\n",
    "\n",
    "# Client Code\n",
    "def client_code(subject):\n",
    "    result = subject.request()\n",
    "    print(result)\n",
    "\n",
    "# Example Usage\n",
    "real_subject = RealSubject()\n",
    "proxy = Proxy(real_subject)\n",
    "\n",
    "client_code(real_subject)  # Direct access to RealSubject\n",
    "client_code(proxy)         # Access through Proxy\n"
   ]
  },
  {
   "cell_type": "markdown",
   "metadata": {},
   "source": [
    "In this example:\n",
    "\n",
    "Subject (Interface):\n",
    "This is the subject interface declaring the request method. Both RealSubject and Proxy implement this interface.\n",
    "\n",
    "RealSubject:\n",
    "This is the real object that does the actual work. It implements the Subject interface.\n",
    "\n",
    "Proxy:\n",
    "This is the proxy class that acts as a surrogate for the real subject. It holds a reference to the real subject and delegates the request method to it. Additional control or functionality can be added before or after delegating the request.\n",
    "\n",
    "Client Code:\n",
    "The client code can interact with either the RealSubject directly or through the Proxy. When using the proxy, additional functionality or control can be applied."
   ]
  }
 ],
 "metadata": {
  "kernelspec": {
   "display_name": "Python 3",
   "language": "python",
   "name": "python3"
  },
  "language_info": {
   "codemirror_mode": {
    "name": "ipython",
    "version": 3
   },
   "file_extension": ".py",
   "mimetype": "text/x-python",
   "name": "python",
   "nbconvert_exporter": "python",
   "pygments_lexer": "ipython3",
   "version": "3.12.0"
  }
 },
 "nbformat": 4,
 "nbformat_minor": 2
}
