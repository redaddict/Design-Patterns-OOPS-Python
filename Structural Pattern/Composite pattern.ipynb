{
 "cells": [
  {
   "cell_type": "markdown",
   "metadata": {},
   "source": [
    "*Composite pattern*\n",
    "\n",
    "The Composite design pattern is a structural pattern useful for hierarchal management.\n",
    "That allows you to compose objects into tree structures to represent part-whole hierarchies.\n",
    "The Composite design pattern, allows you to represent individual entities(leaves) and groups of leaves at the same.\n",
    "    is a structural design pattern that lets you compose objects into a changeable tree structure.\n",
    "    is great if you need the option of swapping hierarchal relationships around. \n",
    "    allows you to add/remove components to the hierarchy.\n",
    "    provides flexibility of structure"
   ]
  },
  {
   "cell_type": "markdown",
   "metadata": {},
   "source": [
    "Component Interface: The interface that all leaves and composites should implement.\n",
    "\n",
    "Leaf: A single object that can exist inside or outside of a composite.\n",
    "\n",
    "Composite: A collections of leaves and/or other composites."
   ]
  },
  {
   "cell_type": "code",
   "execution_count": 1,
   "metadata": {},
   "outputs": [
    {
     "name": "stdout",
     "output_type": "stream",
     "text": [
      "Drawing Circle: Circle 1\n",
      "Drawing Circle: Circle 2\n",
      "Drawing Square: Square 1\n"
     ]
    }
   ],
   "source": [
    "from abc import ABC, abstractmethod\n",
    "\n",
    "# Component\n",
    "class Graphic(ABC):\n",
    "    @abstractmethod\n",
    "    def draw(self):\n",
    "        pass\n",
    "\n",
    "# Leaf\n",
    "class Circle(Graphic):\n",
    "    def __init__(self, name):\n",
    "        self.name = name\n",
    "\n",
    "    def draw(self):\n",
    "        return f\"Drawing Circle: {self.name}\"\n",
    "\n",
    "# Leaf\n",
    "class Square(Graphic):\n",
    "    def __init__(self, name):\n",
    "        self.name = name\n",
    "\n",
    "    def draw(self):\n",
    "        return f\"Drawing Square: {self.name}\"\n",
    "\n",
    "# Composite\n",
    "class CompositeGraphic(Graphic):\n",
    "    def __init__(self):\n",
    "        self.graphics = []\n",
    "\n",
    "    def add(self, graphic):\n",
    "        self.graphics.append(graphic)\n",
    "\n",
    "    def draw(self):\n",
    "        result = []\n",
    "        for graphic in self.graphics:\n",
    "            result.append(graphic.draw())\n",
    "        return \"\\n\".join(result)\n",
    "\n",
    "# Client Code\n",
    "circle1 = Circle(\"Circle 1\")\n",
    "circle2 = Circle(\"Circle 2\")\n",
    "square1 = Square(\"Square 1\")\n",
    "\n",
    "composite = CompositeGraphic()\n",
    "composite.add(circle1)\n",
    "composite.add(circle2)\n",
    "composite.add(square1)\n",
    "\n",
    "print(composite.draw())\n"
   ]
  },
  {
   "cell_type": "markdown",
   "metadata": {},
   "source": [
    "Component (Graphic):\n",
    "This is the component interface that declares the common method draw for both leaf and composite objects.\n",
    "\n",
    "Leafs (Circle, Square):\n",
    "These are the individual objects that implement the Graphic interface. They represent the leaves of the tree structure.\n",
    "\n",
    "Composite (CompositeGraphic):\n",
    "This is a composite object that also implements the Graphic interface. It contains a collection of Graphic objects, which can be either leafs or other composites. The draw method is overridden to recursively call draw on each child.\n",
    "\n",
    "Client Code:\n",
    "The client code creates individual leaf objects (Circle, Square) and a composite object (CompositeGraphic). It adds leafs to the composite and then calls the draw method on the composite. The client treats individual objects and compositions uniformly through the common Graphic interface."
   ]
  }
 ],
 "metadata": {
  "kernelspec": {
   "display_name": "Python 3",
   "language": "python",
   "name": "python3"
  },
  "language_info": {
   "codemirror_mode": {
    "name": "ipython",
    "version": 3
   },
   "file_extension": ".py",
   "mimetype": "text/x-python",
   "name": "python",
   "nbconvert_exporter": "python",
   "pygments_lexer": "ipython3",
   "version": "3.12.0"
  }
 },
 "nbformat": 4,
 "nbformat_minor": 2
}
