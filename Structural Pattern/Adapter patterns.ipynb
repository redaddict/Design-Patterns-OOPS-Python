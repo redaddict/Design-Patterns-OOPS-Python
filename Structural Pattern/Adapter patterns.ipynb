{
 "cells": [
  {
   "cell_type": "markdown",
   "metadata": {},
   "source": [
    "*Adapter Pattern*\n",
    "\n",
    "The Adapter pattern in Python is a structural design pattern that allows the interface of an existing class to be used as another interface.\n",
    "It is often used to make existing classes work with others without modifying their source code. The adapter acts as a bridge between two incompatible interfaces.\n",
    "\n"
   ]
  },
  {
   "cell_type": "markdown",
   "metadata": {},
   "source": [
    "example: you have a system that expects data in JSON format, but you have a legacy system that provides data in XML format. You can use the Adapter pattern to make the XML data compatible with the system's expectations."
   ]
  },
  {
   "cell_type": "code",
   "execution_count": 1,
   "metadata": {},
   "outputs": [
    {
     "name": "stdout",
     "output_type": "stream",
     "text": [
      "Formatted XML Data: <data>Some XML data</data>\n",
      "Formatted Data: {'json_data': <data>Some JSON data</data>}\n"
     ]
    }
   ],
   "source": [
    "# Target interface\n",
    "class JSONFormatter:\n",
    "    def format(self, data):\n",
    "        pass\n",
    "\n",
    "# Adaptee (the class to be adapted)\n",
    "class XMLFormatter:\n",
    "    def format_as_xml(self, data):\n",
    "        return f\"<data>{data}</data>\"\n",
    "\n",
    "# Adapter\n",
    "class XMLToJSONAdapter(JSONFormatter):\n",
    "    def __init__(self, xml_formatter):\n",
    "        self.xml_formatter = xml_formatter\n",
    "\n",
    "    def format(self, data):\n",
    "        xml_data = self.xml_formatter.format_as_xml(data)\n",
    "        # Here, you might implement the actual conversion logic from XML to JSON\n",
    "        # For simplicity, let's just add a prefix to simulate the conversion\n",
    "        return f\"{{'json_data': {xml_data}}}\"\n",
    "\n",
    "# Client code\n",
    "def process_data(formatter, data):\n",
    "    formatted_data = formatter.format(data)\n",
    "    print(\"Formatted Data:\", formatted_data)\n",
    "\n",
    "# Using the Adaptee directly\n",
    "xml_formatter = XMLFormatter()\n",
    "xml_data = \"Some XML data\"\n",
    "formatted_xml_data = xml_formatter.format_as_xml(xml_data)\n",
    "print(\"Formatted XML Data:\", formatted_xml_data)\n",
    "\n",
    "# Using the Adapter to make XMLFormatter compatible with JSONFormatter\n",
    "adapter = XMLToJSONAdapter(xml_formatter)\n",
    "json_data = \"Some JSON data\"\n",
    "process_data(adapter, json_data)\n"
   ]
  },
  {
   "cell_type": "markdown",
   "metadata": {},
   "source": [
    "JSONFormatter is the target interface that the client expects to work with. It declares a method called format.\n",
    "\n",
    "XMLFormatter is the class with a different interface that we want to adapt. It has a method called format_as_xml.\n",
    "\n",
    "XMLToJSONAdapter is the adapter class that extends JSONFormatter and internally uses an instance of XMLFormatter. It adapts the XMLFormatter to the JSONFormatter interface.\n",
    "\n",
    "Client code demonstrates how both the XMLFormatter and the XMLToJSONAdapter can be used through the JSONFormatter interface. The client code is unaware of the specific implementation of XMLFormatter; it works with the XMLToJSONAdapter as if it were a JSONFormatter.\n",
    "\n",
    "This example is a simplified representation of how an adapter could be used to convert XML data to JSON format in a real-world scenario."
   ]
  }
 ],
 "metadata": {
  "kernelspec": {
   "display_name": "Python 3",
   "language": "python",
   "name": "python3"
  },
  "language_info": {
   "codemirror_mode": {
    "name": "ipython",
    "version": 3
   },
   "file_extension": ".py",
   "mimetype": "text/x-python",
   "name": "python",
   "nbconvert_exporter": "python",
   "pygments_lexer": "ipython3",
   "version": "3.12.0"
  }
 },
 "nbformat": 4,
 "nbformat_minor": 2
}
