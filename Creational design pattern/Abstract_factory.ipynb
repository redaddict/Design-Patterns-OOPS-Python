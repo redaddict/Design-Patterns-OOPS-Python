{
 "cells": [
  {
   "cell_type": "markdown",
   "metadata": {},
   "source": [
    "*Abstract factory*\n",
    "\n",
    "Abstract Factory design pattern is one of the Creational pattern. \n",
    "It is almost similar to Factory Pattern and is considered as another layer of abstraction over factory pattern.\n",
    "It work around a super-factory which creates other factories."
   ]
  },
  {
   "cell_type": "markdown",
   "metadata": {},
   "source": [
    "The client implements the abstract factory interface, rather than all the internal logic and\n",
    "Factories. This allows the possibility of creating a library that can be imported for using the\n",
    "Abstract Factory.\n",
    "The Abstract Factory defers the creation of the final products/objects to its concrete factory\n",
    "subclasses. "
   ]
  },
  {
   "cell_type": "markdown",
   "metadata": {},
   "source": [
    "*AbstractFactory:* Declares an interface for operations that create abstract product objects. \n",
    "\n",
    "*ConcreteFactory:* Implements the operations declared in the AbstractFactory to create concrete product objects.\n",
    "\n",
    "*Product:* Defines a product object to be created by the corresponding concrete factory and implements the AbstractProduct interface.\n",
    "*Client:* Uses only interfaces declared by AbstractFactory and AbstractProduct classes."
   ]
  },
  {
   "cell_type": "code",
   "execution_count": 1,
   "metadata": {},
   "outputs": [],
   "source": [
    "from abc import ABC, abstractmethod\n",
    "\n",
    "# Abstract Product A\n",
    "class Chair(ABC):\n",
    "    @abstractmethod\n",
    "    def sit_on(self):\n",
    "        pass\n",
    "\n",
    "# Concrete Product A1\n",
    "class ModernChair(Chair):\n",
    "    def sit_on(self):\n",
    "        return \"Sitting on a modern chair\"\n",
    "\n",
    "# Concrete Product A2\n",
    "class VictorianChair(Chair):\n",
    "    def sit_on(self):\n",
    "        return \"Sitting on a Victorian chair\""
   ]
  },
  {
   "cell_type": "code",
   "execution_count": 2,
   "metadata": {},
   "outputs": [],
   "source": [
    "# Abstract Product B\n",
    "class Table(ABC):\n",
    "    @abstractmethod\n",
    "    def put_on(self):\n",
    "        pass\n",
    "\n",
    "# Concrete Product B1\n",
    "class ModernTable(Table):\n",
    "    def put_on(self):\n",
    "        return \"Putting on a modern table\"\n",
    "\n",
    "# Concrete Product B2\n",
    "class VictorianTable(Table):\n",
    "    def put_on(self):\n",
    "        return \"Putting on a Victorian table\""
   ]
  },
  {
   "cell_type": "code",
   "execution_count": 3,
   "metadata": {},
   "outputs": [],
   "source": [
    "# Abstract Factory\n",
    "class FurnitureFactory(ABC):\n",
    "    @abstractmethod\n",
    "    def create_chair(self) -> Chair:\n",
    "        pass\n",
    "\n",
    "    @abstractmethod\n",
    "    def create_table(self) -> Table:\n",
    "        pass\n",
    "\n",
    "# Concrete Factory 1\n",
    "class ModernFurnitureFactory(FurnitureFactory):\n",
    "    def create_chair(self) -> Chair:\n",
    "        return ModernChair()\n",
    "\n",
    "    def create_table(self) -> Table:\n",
    "        return ModernTable()\n",
    "\n",
    "# Concrete Factory 2\n",
    "class VictorianFurnitureFactory(FurnitureFactory):\n",
    "    def create_chair(self) -> Chair:\n",
    "        return VictorianChair()\n",
    "\n",
    "    def create_table(self) -> Table:\n",
    "        return VictorianTable()"
   ]
  },
  {
   "cell_type": "code",
   "execution_count": 4,
   "metadata": {},
   "outputs": [],
   "source": [
    "# Client Code\n",
    "def client_code(factory: FurnitureFactory):\n",
    "    chair = factory.create_chair()\n",
    "    table = factory.create_table()\n",
    "\n",
    "    print(chair.sit_on())\n",
    "    print(table.put_on())"
   ]
  },
  {
   "cell_type": "code",
   "execution_count": 5,
   "metadata": {},
   "outputs": [
    {
     "name": "stdout",
     "output_type": "stream",
     "text": [
      "Sitting on a modern chair\n",
      "Putting on a modern table\n",
      "Sitting on a Victorian chair\n",
      "Putting on a Victorian table\n"
     ]
    }
   ],
   "source": [
    "# Example usage\n",
    "modern_factory = ModernFurnitureFactory()\n",
    "victorian_factory = VictorianFurnitureFactory()\n",
    "\n",
    "client_code(modern_factory)\n",
    "client_code(victorian_factory)\n"
   ]
  },
  {
   "cell_type": "markdown",
   "metadata": {},
   "source": [
    "In this example, Chair and Table are abstract product classes, while ModernChair, VictorianChair, ModernTable, and VictorianTable are their concrete implementations. The FurnitureFactory is an abstract factory interface with methods to create chairs and tables. The ModernFurnitureFactory and VictorianFurnitureFactory are concrete factories that produce modern and Victorian furniture, respectively. The client code demonstrates how to use these factories to create and interact with related products."
   ]
  }
 ],
 "metadata": {
  "kernelspec": {
   "display_name": "Python 3",
   "language": "python",
   "name": "python3"
  },
  "language_info": {
   "codemirror_mode": {
    "name": "ipython",
    "version": 3
   },
   "file_extension": ".py",
   "mimetype": "text/x-python",
   "name": "python",
   "nbconvert_exporter": "python",
   "pygments_lexer": "ipython3",
   "version": "3.12.0"
  }
 },
 "nbformat": 4,
 "nbformat_minor": 2
}
