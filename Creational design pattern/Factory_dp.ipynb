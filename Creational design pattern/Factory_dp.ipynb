{
 "cells": [
  {
   "cell_type": "markdown",
   "metadata": {},
   "source": [
    "*Factory Design Pattern*\n",
    "\n",
    "The Factory design pattern is a creational pattern that provides an interface for creating objects in a superclass but allows subclasses to alter the type of objects that will be created. \n",
    "It involves defining an interface or abstract class for creating objects and letting the subclasses implement that interface to produce instances of their respective classes.\n",
    "It is used in code for several reasons, and its primary purpose is to provide an interface for creating objects in a superclass, but allowing subclasses to alter the type of objects that will be created."
   ]
  },
  {
   "cell_type": "markdown",
   "metadata": {},
   "source": [
    "*Define Products (Abstract Class):*\n",
    "\n",
    "Animal is an abstract class (or interface) that declares the speak method, representing the product to be created.\n",
    "Dog and Cat are concrete implementations of Animal, each providing a specific behavior for the speak method."
   ]
  },
  {
   "cell_type": "code",
   "execution_count": null,
   "metadata": {},
   "outputs": [],
   "source": [
    "from abc import ABC, abstractmethod\n",
    "# Abstract Product\n",
    "class Animal(ABC):\n",
    "    @abstractmethod\n",
    "    def speak(self):\n",
    "        pass"
   ]
  },
  {
   "cell_type": "code",
   "execution_count": null,
   "metadata": {},
   "outputs": [],
   "source": [
    "# Concrete Products\n",
    "class Dog(Animal):\n",
    "    def speak(self):\n",
    "        return \"Woof!\"\n",
    "\n",
    "class Cat(Animal):\n",
    "    def speak(self):\n",
    "        return \"Meow!\""
   ]
  },
  {
   "cell_type": "markdown",
   "metadata": {},
   "source": [
    "\n",
    "*Define Factories (Abstract Factory):*\n",
    "\n",
    "AnimalFactory is an abstract class (or interface) that declares the create_animal method, which is responsible for creating instances of the product (Animal).\n",
    "DogFactory and CatFactory are concrete implementations of AnimalFactory. They provide specific implementations for creating instances of Dog and Cat, respectively."
   ]
  },
  {
   "cell_type": "code",
   "execution_count": null,
   "metadata": {},
   "outputs": [],
   "source": [
    "# Abstract Factory\n",
    "class AnimalFactory(ABC):\n",
    "    @abstractmethod\n",
    "    def create_animal(self):\n",
    "        pass"
   ]
  },
  {
   "cell_type": "code",
   "execution_count": null,
   "metadata": {},
   "outputs": [],
   "source": [
    "# Concrete Factories\n",
    "class DogFactory(AnimalFactory):\n",
    "    def create_animal(self):\n",
    "        return Dog()\n",
    "\n",
    "class CatFactory(AnimalFactory):\n",
    "    def create_animal(self):\n",
    "        return Cat()"
   ]
  },
  {
   "cell_type": "markdown",
   "metadata": {},
   "source": [
    "*Client Code:*\n",
    "\n",
    "The get_animal_sound function takes an AnimalFactory as an argument.\n",
    "Inside this function, it calls create_animal on the provided factory to obtain an instance of Animal.\n",
    "It then calls the speak method on that instance to get the sound of the animal."
   ]
  },
  {
   "cell_type": "code",
   "execution_count": null,
   "metadata": {},
   "outputs": [],
   "source": [
    "# Client Code\n",
    "def get_animal_sound(factory):\n",
    "    animal = factory.create_animal()\n",
    "    return animal.speak()"
   ]
  },
  {
   "cell_type": "code",
   "execution_count": null,
   "metadata": {},
   "outputs": [],
   "source": [
    "# Example Usage\n",
    "\n",
    "# Creating instances of concrete factories\n",
    "dog_factory = DogFactory()\n",
    "\n",
    "# Getting the sounds of animals using the client code\n",
    "dog_sound = get_animal_sound(dog_factory)# Calls DogFactory, creates Dog, gets \"Woof!\"\n",
    "print(dog_sound)  # Output: Woof!"
   ]
  },
  {
   "cell_type": "code",
   "execution_count": null,
   "metadata": {},
   "outputs": [],
   "source": [
    "# Creating instances of concrete factories\n",
    "cat_factory = CatFactory()\n",
    "\n",
    "# Getting the sounds of animals using the client code\n",
    "cat_sound = get_animal_sound(cat_factory) # Calls CatFactory, creates Cat, gets \"Meow!\"\n",
    "print(cat_sound)  # Output: Meow!"
   ]
  }
 ],
 "metadata": {
  "kernelspec": {
   "display_name": "Python 3",
   "language": "python",
   "name": "python3"
  },
  "language_info": {
   "name": "python",
   "version": "3.12.0"
  }
 },
 "nbformat": 4,
 "nbformat_minor": 2
}
