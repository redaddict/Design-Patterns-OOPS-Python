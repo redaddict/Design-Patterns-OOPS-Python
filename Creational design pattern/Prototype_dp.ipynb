{
 "cells": [
  {
   "cell_type": "markdown",
   "metadata": {},
   "source": [
    "*Prototype design pattern*\n",
    "\n",
    "The concept is to copy an existing object rather than creating a new instance from scratch. because creating new object may be costly.This approach saves costly resources and time, especially when object creation is a heavy process.\n",
    "\n",
    "example: A file you've downloaded from a server may be large, but since it is already in memory, you could just clone it, and work on the new copy independently of the original."
   ]
  },
  {
   "cell_type": "markdown",
   "metadata": {},
   "source": [
    "In the Prototype patterns interface, you create a static clone method that should be implemented by all classes that use the interface.\n",
    "How the clone method is implemented in the concrete class is up\n",
    "to you. You will need to decide whether a shallow or deep copy is required.\n",
    "A shallow copy, copies and creates new references one level deep, \n",
    "A deep copy, copies and creates new references for all levels."
   ]
  },
  {
   "cell_type": "markdown",
   "metadata": {},
   "source": [
    "Prototype Interface: The interface that describes the clone() method.\n",
    "\n",
    "Prototype: The Object/Product that implements the Prototype interface.\n",
    "\n",
    "Client: The client application that uses and creates the ProtoType.\n"
   ]
  },
  {
   "cell_type": "code",
   "execution_count": 8,
   "metadata": {},
   "outputs": [
    {
     "name": "stdout",
     "output_type": "stream",
     "text": [
      "Object1  1845408996224\tdata=[1, 2, 3, 4]\ttype=<class 'list'>\n",
      "Object2  1845409084768\tdata=[1, 2, 33, 4]\ttype=<class 'list'>\n",
      "Object1  1845408996224\tdata=[1, 2, 3, 4]\ttype=<class 'list'>\n"
     ]
    }
   ],
   "source": [
    "from abc import ABC , abstractmethod\n",
    "\n",
    "class Iprototype(ABC):\n",
    "    #interface with clone method\n",
    "    @abstractmethod\n",
    "    def clone():\n",
    "        pass\n",
    "\n",
    "class  Mydata(Iprototype):\n",
    "    #concreate class\n",
    "    def __init__(self,data):\n",
    "        self.data = data\n",
    "\n",
    "    def clone(self):\n",
    "        #the clone method use\n",
    "        return type(self)(self.data)  #(self.data.copy())\n",
    "\n",
    "    def __str__(self):\n",
    "        return f\"{id(self)}\\tdata={self.data}\\ttype={type(self.data)}\"\n",
    "\n",
    "#client \n",
    "object1=Mydata([1,2,3,4])\n",
    "print(f\"Object1  {object1}\")      \n",
    "\n",
    "object2=object1.clone()\n",
    "\n",
    "# Change the value of one of the list elements in OBJECT2,\n",
    "# to see if it also modifies the list element in OBJECT1.\n",
    "object2.data[2]=33\n",
    "\n",
    "print(f\"Object2  {object2}\")\n",
    "print(f\"Object1  {object1}\")\n"
   ]
  },
  {
   "cell_type": "markdown",
   "metadata": {},
   "source": [
    "When designing your clone() method, you should consider which elements will be\n",
    "shallow copied, how deep, and whether or not full recursive deep copy is necessary."
   ]
  }
 ],
 "metadata": {
  "kernelspec": {
   "display_name": "Python 3",
   "language": "python",
   "name": "python3"
  },
  "language_info": {
   "codemirror_mode": {
    "name": "ipython",
    "version": 3
   },
   "file_extension": ".py",
   "mimetype": "text/x-python",
   "name": "python",
   "nbconvert_exporter": "python",
   "pygments_lexer": "ipython3",
   "version": "3.12.0"
  }
 },
 "nbformat": 4,
 "nbformat_minor": 2
}
