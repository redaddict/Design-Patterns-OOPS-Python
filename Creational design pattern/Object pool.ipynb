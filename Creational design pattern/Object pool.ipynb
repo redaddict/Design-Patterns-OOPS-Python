{
 "cells": [
  {
   "cell_type": "markdown",
   "metadata": {},
   "source": [
    "*Object pool pattern*\n",
    "\n",
    "\n",
    "The Object Pool pattern in Python is a creational design pattern that manages a pool of reusable objects, rather than creating and destroying them as needed.\n",
    "Object pool pattern offer a mechanism to reuse objects and share objects that are expensive to create.\n",
    "Basically, we will use an object pool whenever there are several clients who needs the same stateless resource which is expensive to create.\n",
    "Improve the perfomance."
   ]
  },
  {
   "cell_type": "code",
   "execution_count": 1,
   "metadata": {},
   "outputs": [
    {
     "name": "stdout",
     "output_type": "stream",
     "text": [
      "Resource 1 Value: Resource 1\n",
      "Resource 2 Value: Resource 2\n",
      "Resource 3 Value: Resource 3\n",
      "Resource 4 Value: Resource 4\n"
     ]
    }
   ],
   "source": [
    "class ObjectPool:\n",
    "    def __init__(self, object_type, size):\n",
    "        self._pool = [object_type() for _ in range(size)]\n",
    "\n",
    "    def acquire_object(self):\n",
    "        if not self._pool:\n",
    "            print(\"Pool is empty. Creating a new object.\")\n",
    "            return None\n",
    "        return self._pool.pop()\n",
    "\n",
    "    def release_object(self, obj):\n",
    "        self._pool.append(obj)\n",
    "\n",
    "# Example usage\n",
    "class Resource:\n",
    "    def __init__(self):\n",
    "        self.value = None\n",
    "\n",
    "    def set_value(self, value):\n",
    "        self.value = value\n",
    "\n",
    "    def get_value(self):\n",
    "        return self.value\n",
    "\n",
    "# Creating an object pool for Resource objects\n",
    "resource_pool = ObjectPool(Resource, 3)\n",
    "\n",
    "# Acquiring and releasing objects from the pool\n",
    "resource1 = resource_pool.acquire_object()\n",
    "resource2 = resource_pool.acquire_object()\n",
    "\n",
    "if resource1:\n",
    "    resource1.set_value(\"Resource 1\")\n",
    "\n",
    "if resource2:\n",
    "    resource2.set_value(\"Resource 2\")\n",
    "\n",
    "print(\"Resource 1 Value:\", resource1.get_value() if resource1 else \"None\")\n",
    "print(\"Resource 2 Value:\", resource2.get_value() if resource2 else \"None\")\n",
    "\n",
    "resource_pool.release_object(resource1)\n",
    "resource_pool.release_object(resource2)\n",
    "\n",
    "# Acquiring more objects after releasing\n",
    "resource3 = resource_pool.acquire_object()\n",
    "resource4 = resource_pool.acquire_object()\n",
    "\n",
    "if resource3:\n",
    "    resource3.set_value(\"Resource 3\")\n",
    "\n",
    "if resource4:\n",
    "    resource4.set_value(\"Resource 4\")\n",
    "\n",
    "print(\"Resource 3 Value:\", resource3.get_value() if resource3 else \"None\")\n",
    "print(\"Resource 4 Value:\", resource4.get_value() if resource4 else \"None\")\n"
   ]
  },
  {
   "cell_type": "markdown",
   "metadata": {},
   "source": [
    "ObjectPool manages a pool of Resource objects. When objects are needed, they are acquired from the pool. If the pool is empty, a new object is created. Objects are released back into the pool when they are no longer needed.\n",
    "This pattern helps reduce the overhead of creating and destroying objects frequently, especially when the cost of object creation is high."
   ]
  }
 ],
 "metadata": {
  "kernelspec": {
   "display_name": "Python 3",
   "language": "python",
   "name": "python3"
  },
  "language_info": {
   "codemirror_mode": {
    "name": "ipython",
    "version": 3
   },
   "file_extension": ".py",
   "mimetype": "text/x-python",
   "name": "python",
   "nbconvert_exporter": "python",
   "pygments_lexer": "ipython3",
   "version": "3.12.0"
  }
 },
 "nbformat": 4,
 "nbformat_minor": 2
}
