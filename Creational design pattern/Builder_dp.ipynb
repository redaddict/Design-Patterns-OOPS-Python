{
 "cells": [
  {
   "cell_type": "markdown",
   "metadata": {},
   "source": [
    "*Builder Pattern*\n",
    "\n",
    "Builder pattern builds a complex object using simple objects and using a step by step approach.\n",
    "This type of design pattern comes under creational pattern as this pattern provides one of the best ways to create an object.\n",
    "A Builder class builds the final object step by step. This builder is independent of other objects.\n",
    "It allows you to create different representations of an object using the same construction process."
   ]
  },
  {
   "cell_type": "markdown",
   "metadata": {},
   "source": [
    "*Product:* The Product being built.\n",
    "\n",
    "*Builder Interface:* The Interface that the Concrete builder should implement.\n",
    "\n",
    "*Builder:* Provides methods to build and retrieve the concrete product. Implements the Builder\n",
    "Interface.\n",
    "\n",
    "*Director:* Has a construct() method that when called creates a customized product\n",
    "using the methods of the Builder."
   ]
  },
  {
   "cell_type": "code",
   "execution_count": 1,
   "metadata": {},
   "outputs": [],
   "source": [
    "#Product\n",
    "class Computer:\n",
    "    def __init__(self):\n",
    "        self.__monitor = None\n",
    "        self.__keyboard = None\n",
    "        self.__mouse = None\n",
    "\n",
    "    def set_monitor(self, monitor):\n",
    "        self.__monitor = monitor\n",
    "\n",
    "    def set_keyboard(self, keyboard):\n",
    "        self.__keyboard = keyboard\n",
    "\n",
    "    def set_mouse(self, mouse):\n",
    "        self.__mouse = mouse\n",
    "\n",
    "    def display(self):\n",
    "        print(f\"Monitor: {self.__monitor}, Keyboard: {self.__keyboard}, Mouse: {self.__mouse}\")"
   ]
  },
  {
   "cell_type": "code",
   "execution_count": 2,
   "metadata": {},
   "outputs": [],
   "source": [
    "# Builder Interface\n",
    "class ComputerBuilder:\n",
    "    def build_monitor(self):\n",
    "        pass\n",
    "\n",
    "    def build_keyboard(self):\n",
    "        pass\n",
    "\n",
    "    def build_mouse(self):\n",
    "        pass\n",
    "\n",
    "    def get_computer(self):\n",
    "        pass\n",
    "\n",
    "\n",
    "# Concrete Builder 1\n",
    "class BasicComputerBuilder(ComputerBuilder):\n",
    "    def __init__(self):\n",
    "        self.computer = Computer()\n",
    "\n",
    "    def build_monitor(self):\n",
    "        self.computer.set_monitor(\"Basic Monitor\")\n",
    "\n",
    "    def build_keyboard(self):\n",
    "        self.computer.set_keyboard(\"Basic Keyboard\")\n",
    "\n",
    "    def build_mouse(self):\n",
    "        self.computer.set_mouse(\"Basic Mouse\")\n",
    "\n",
    "    def get_computer(self):\n",
    "        return self.computer\n",
    "\n",
    "\n",
    "# Concrete Builder 2\n",
    "class AdvancedComputerBuilder(ComputerBuilder):\n",
    "    def __init__(self):\n",
    "        self.computer = Computer()\n",
    "\n",
    "    def build_monitor(self):\n",
    "        self.computer.set_monitor(\"Advanced Monitor\")\n",
    "\n",
    "    def build_keyboard(self):\n",
    "        self.computer.set_keyboard(\"Mechanical Keyboard\")\n",
    "\n",
    "    def build_mouse(self):\n",
    "        self.computer.set_mouse(\"Gaming Mouse\")\n",
    "\n",
    "    def get_computer(self):\n",
    "        return self.computer"
   ]
  },
  {
   "cell_type": "code",
   "execution_count": 3,
   "metadata": {},
   "outputs": [],
   "source": [
    "# Director\n",
    "class Director:\n",
    "    def construct(self, builder):\n",
    "        builder.build_monitor()\n",
    "        builder.build_keyboard()\n",
    "        builder.build_mouse()"
   ]
  },
  {
   "cell_type": "code",
   "execution_count": 4,
   "metadata": {},
   "outputs": [
    {
     "name": "stdout",
     "output_type": "stream",
     "text": [
      "Monitor: Basic Monitor, Keyboard: Basic Keyboard, Mouse: Basic Mouse\n",
      "Monitor: Advanced Monitor, Keyboard: Mechanical Keyboard, Mouse: Gaming Mouse\n"
     ]
    }
   ],
   "source": [
    "# Client Code\n",
    "basic_builder = BasicComputerBuilder()\n",
    "advanced_builder = AdvancedComputerBuilder()\n",
    "\n",
    "director = Director()\n",
    "\n",
    "director.construct(basic_builder)\n",
    "basic_computer = basic_builder.get_computer()\n",
    "basic_computer.display()\n",
    "\n",
    "director.construct(advanced_builder)\n",
    "advanced_computer = advanced_builder.get_computer()\n",
    "advanced_computer.display()\n"
   ]
  },
  {
   "cell_type": "markdown",
   "metadata": {},
   "source": [
    "In this example, Computer is the product class. ComputerBuilder is the builder interface that declares methods for building different parts of the computer. BasicComputerBuilder and AdvancedComputerBuilder are concrete builder classes that implement the builder interface.\n",
    "\n",
    "The Director class orchestrates the construction process by invoking the builder's methods in a specific order. The client code demonstrates how to use the director with different builders to create two different representations of a computer."
   ]
  }
 ],
 "metadata": {
  "kernelspec": {
   "display_name": "Python 3",
   "language": "python",
   "name": "python3"
  },
  "language_info": {
   "codemirror_mode": {
    "name": "ipython",
    "version": 3
   },
   "file_extension": ".py",
   "mimetype": "text/x-python",
   "name": "python",
   "nbconvert_exporter": "python",
   "pygments_lexer": "ipython3",
   "version": "3.12.0"
  }
 },
 "nbformat": 4,
 "nbformat_minor": 2
}
