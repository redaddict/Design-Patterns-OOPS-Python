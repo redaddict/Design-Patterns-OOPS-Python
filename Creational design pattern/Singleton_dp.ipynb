{
 "cells": [
  {
   "cell_type": "markdown",
   "metadata": {},
   "source": [
    "*Singleton Design Pattern*\n",
    "\n",
    "The singleton design pattern is a creational pattern that ensures a class has only one instance and provides a global point of access to that instance.\n",
    "This pattern is particularly useful when exactly one object is needed to coordinate actions across the system.\n",
    "It is one of the simplest design patterns.\n",
    "\n",
    "\n",
    "*Real world example: Logger Classes*\n",
    "\n",
    "The Singleton pattern is used in the design of logger classes. \n",
    "This classes are usually implemented as a singletons, and provides a global logging access point in all the application components without being necessary to create an object each time a logging operations is performed.\n"
   ]
  },
  {
   "cell_type": "code",
   "execution_count": 1,
   "metadata": {},
   "outputs": [],
   "source": [
    "#singleton example :\n",
    "from abc import ABC , abstractmethod\n",
    "#import the ABC superclass from abc and inherit in class\n",
    "class Principal(ABC):\n",
    "    @abstractmethod\n",
    "   #abstractmethod create\n",
    "    def print_data():\n",
    "       pass"
   ]
  },
  {
   "cell_type": "code",
   "execution_count": 2,
   "metadata": {},
   "outputs": [],
   "source": [
    "\n",
    "#create child class and Inherit parent class       \n",
    "class StudentN(Principal):\n",
    "    #StudentN is a singleton \n",
    "    __instance = None\n",
    "    \n",
    "    \n",
    "    @staticmethod\n",
    "    def get_instance():\n",
    "        if StudentN.__instance == None:\n",
    "        #    run when no any instance method\n",
    "           StudentN (\"Default Name\",0)\n",
    "        # else return instance   \n",
    "        return StudentN.__instance\n",
    "        \n",
    "    def __init__(self,name, age):\n",
    "        # more than one instance method have ,if block show error\n",
    "        if StudentN.__instance != None:\n",
    "            raise Exception(\"Singleton cannot be instantiated more than once\")\n",
    "        else:\n",
    "            self.name = name\n",
    "            self.age = age\n",
    "            StudentN.__instance=self\n",
    "            \n",
    "    @staticmethod\n",
    "    def print_data():\n",
    "        print(f\"Name: {StudentN.__instance.name},Age:{StudentN.__instance.age}\")\n",
    "    \n",
    "          \n"
   ]
  },
  {
   "cell_type": "code",
   "execution_count": 3,
   "metadata": {},
   "outputs": [
    {
     "name": "stdout",
     "output_type": "stream",
     "text": [
      "Name: mike,Age:30\n",
      "Name: mike,Age:30\n"
     ]
    }
   ],
   "source": [
    "p=StudentN(\"mike\",30)\n",
    "p.print_data()\n",
    "\n",
    "\"\"\" create another it give error because of only one instance are use in singleton \n",
    "    b =PersonSingleton(\"Mike\",30)\n",
    "    b.print_data() \"\"\"\n",
    "\n",
    "#get_instance \n",
    "p2=StudentN.get_instance()\n",
    "p2.print_data()"
   ]
  }
 ],
 "metadata": {
  "kernelspec": {
   "display_name": "Python 3",
   "language": "python",
   "name": "python3"
  },
  "language_info": {
   "codemirror_mode": {
    "name": "ipython",
    "version": 3
   },
   "file_extension": ".py",
   "mimetype": "text/x-python",
   "name": "python",
   "nbconvert_exporter": "python",
   "pygments_lexer": "ipython3",
   "version": "3.12.0"
  }
 },
 "nbformat": 4,
 "nbformat_minor": 2
}
