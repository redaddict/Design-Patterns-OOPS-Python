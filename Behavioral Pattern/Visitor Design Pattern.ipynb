{
 "cells": [
  {
   "cell_type": "markdown",
   "metadata": {},
   "source": [
    "* Visitor Design Pattern*\n",
    "\n",
    "Your object structure inside an application may be complicated and varied. A good example is what\n",
    "could be created using the Composite structure.\n",
    "The objects that make up the hierarchy of objects, can be anything and most likely complicated to\n",
    "modify as your application grows. \n",
    "Instead, when designing the objects in your application that may be structured in a hierarchical\n",
    "fashion, you can allow them to implement a Visitor interface. \n",
    "The Visitor interface describes an accept() method that a different object, called a Visitor, will\n",
    "use in order to traverse through the existing object hierarchy and read the internal attributes of an\n",
    "object.\n",
    "The Visitor pattern is useful when you want to analyze, or reproduce an alternative object hierarchy\n",
    "without implementing extra code in the object classes, except for the original requirements set by\n",
    "implementing the Visitor interface.\n",
    "Similar to the template pattern it could be used to output different versions of a document but more\n",
    "suited to objects that may be members of a hierarchy."
   ]
  },
  {
   "cell_type": "markdown",
   "metadata": {},
   "source": [
    "Visitor Interface: An interface for the Concrete Visitors.\n",
    "\n",
    "Concrete Visitor: The Concrete Visitor will traverse the hierarchy of elements.\n",
    "\n",
    "Visitable Interface: The interface that elements should implement, that describes the accept() method that will allow them to be visited (traversed).\n",
    "\n",
    "Concrete Element: An object that will be visited. An application will contain a variable number of Elements than can be structured in any particular hierarchy."
   ]
  },
  {
   "cell_type": "code",
   "execution_count": 1,
   "metadata": {},
   "outputs": [
    {
     "name": "stdout",
     "output_type": "stream",
     "text": [
      "Visitor is processing ConcreteElement1\n",
      "Visitor is processing ConcreteElement2\n"
     ]
    }
   ],
   "source": [
    "from abc import ABC, abstractmethod\n",
    "\n",
    "# Element Interface\n",
    "class Element(ABC):\n",
    "    @abstractmethod\n",
    "    def accept(self, visitor):\n",
    "        pass\n",
    "\n",
    "# Concrete Element 1\n",
    "class ConcreteElement1(Element):\n",
    "    def accept(self, visitor):\n",
    "        visitor.visit_element1(self)\n",
    "\n",
    "# Concrete Element 2\n",
    "class ConcreteElement2(Element):\n",
    "    def accept(self, visitor):\n",
    "        visitor.visit_element2(self)\n",
    "\n",
    "# Visitor Interface\n",
    "class Visitor(ABC):\n",
    "    @abstractmethod\n",
    "    def visit_element1(self, element1):\n",
    "        pass\n",
    "\n",
    "    @abstractmethod\n",
    "    def visit_element2(self, element2):\n",
    "        pass\n",
    "\n",
    "# Concrete Visitor\n",
    "class ConcreteVisitor(Visitor):\n",
    "    def visit_element1(self, element1):\n",
    "        print(f\"Visitor is processing {element1.__class__.__name__}\")\n",
    "\n",
    "    def visit_element2(self, element2):\n",
    "        print(f\"Visitor is processing {element2.__class__.__name__}\")\n",
    "\n",
    "# Client Code\n",
    "def client_code(elements, visitor):\n",
    "    for element in elements:\n",
    "        element.accept(visitor)\n",
    "\n",
    "# Example Usage\n",
    "element1 = ConcreteElement1()\n",
    "element2 = ConcreteElement2()\n",
    "\n",
    "visitor = ConcreteVisitor()\n",
    "\n",
    "elements = [element1, element2]\n",
    "client_code(elements, visitor)\n"
   ]
  },
  {
   "cell_type": "markdown",
   "metadata": {},
   "source": [
    "In this example:\n",
    "\n",
    "Element (Element Interface):\n",
    "This is the element interface that declares the accept method. Concrete elements will implement this interface.\n",
    "\n",
    "Concrete Elements (ConcreteElement1, ConcreteElement2):\n",
    "These are concrete classes representing different types of elements. They implement the Element interface and provide their own implementations of the accept method.\n",
    "\n",
    "Visitor (Visitor Interface):\n",
    "This is the visitor interface that declares methods for each type of element it can visit.\n",
    "\n",
    "Concrete Visitor (ConcreteVisitor):\n",
    "This is a concrete visitor class that implements the Visitor interface. It provides specific behavior for each type of element it visits.\n",
    "\n",
    "Client Code:\n",
    "The client code creates instances of concrete elements and a concrete visitor. It then calls the accept method on each element, passing the visitor. The visitor processes each element based on its type.\n",
    "\n",
    "The Visitor pattern is particularly useful when you have a family of classes and want to add new operations without modifying the existing class hierarchy. It enables you to separate the algorithm from the objects on which it operates.\n",
    "\n",
    "In the example, ConcreteVisitor defines the algorithm, and different types of elements (ConcreteElement1 and ConcreteElement2) accept the visitor to apply the algorithm. This allows you to add new operations by creating new visitor classes without modifying the existing elements."
   ]
  }
 ],
 "metadata": {
  "kernelspec": {
   "display_name": "Python 3",
   "language": "python",
   "name": "python3"
  },
  "language_info": {
   "codemirror_mode": {
    "name": "ipython",
    "version": 3
   },
   "file_extension": ".py",
   "mimetype": "text/x-python",
   "name": "python",
   "nbconvert_exporter": "python",
   "pygments_lexer": "ipython3",
   "version": "3.12.0"
  }
 },
 "nbformat": 4,
 "nbformat_minor": 2
}
