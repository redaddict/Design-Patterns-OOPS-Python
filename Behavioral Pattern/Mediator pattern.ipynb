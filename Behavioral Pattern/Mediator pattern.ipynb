{
 "cells": [
  {
   "cell_type": "markdown",
   "metadata": {},
   "source": [
    "*Mediator pattern*\n",
    "\n",
    "Objects communicate through the Mediator rather than directly with each other.\n",
    "As a system evolves and becomes larger and supports more complex functionality and business rules, the problem of communicating between these components becomes more complicated to understand and manage. \n",
    "It may be beneficial to refactor your system to centralize some or all of its functionality via some kind of mediation process.\n",
    "The mediator pattern is similar to creating a Facade pattern between your classes and processes.\n",
    "Except the Mediator is expected to transact data both ways between two or more other classes or processes that would normally interact directly with each other.\n",
    "Colleagues now will send and receive requests via a Mediator object rather than directly between each other. The Mediator is like a router in this case, but allows you to add extra programmatic functionality and also give the option of creating other kinds of colleagues that could utilize the communications in new ways."
   ]
  },
  {
   "cell_type": "markdown",
   "metadata": {},
   "source": [
    "Mediator Interface: An interface that the Mediator and Colleagues implement. Note that different Colleagues will have varied use cases and won't need to implement all the methods described in the Mediator interface.\n",
    "\n",
    "Concrete Mediator: The single source of truth and coordinator of communications between the components (colleagues).\n",
    "\n",
    "Colleague Classes: One of the many types of concrete components that use the mediator for its own particular use case. "
   ]
  },
  {
   "cell_type": "code",
   "execution_count": 1,
   "metadata": {},
   "outputs": [
    {
     "name": "stdout",
     "output_type": "stream",
     "text": [
      "Alice sends: Hello, everyone!\n",
      "Bob receives from Alice: Hello, everyone!\n",
      "Charlie receives from Alice: Hello, everyone!\n"
     ]
    }
   ],
   "source": [
    "from abc import ABC, abstractmethod\n",
    "\n",
    "# Mediator interface\n",
    "class Mediator(ABC):\n",
    "    @abstractmethod\n",
    "    def send_message(self, sender, message):\n",
    "        pass\n",
    "\n",
    "# Concrete Mediator class\n",
    "class ChatMediator(Mediator):\n",
    "    def __init__(self):\n",
    "        self._participants = []\n",
    "\n",
    "    def add_participant(self, participant):\n",
    "        self._participants.append(participant)\n",
    "\n",
    "    def send_message(self, sender, message):\n",
    "        for participant in self._participants:\n",
    "            if participant != sender:\n",
    "                participant.receive_message(sender, message)\n",
    "\n",
    "# Colleague interface\n",
    "class Colleague(ABC):\n",
    "    def __init__(self, mediator):\n",
    "        self._mediator = mediator\n",
    "\n",
    "    @abstractmethod\n",
    "    def send(self, message):\n",
    "        pass\n",
    "\n",
    "    @abstractmethod\n",
    "    def receive_message(self, sender, message):\n",
    "        pass\n",
    "\n",
    "# Concrete Colleague class\n",
    "class Participant(Colleague):\n",
    "    def __init__(self, name, mediator):\n",
    "        super().__init__(mediator)\n",
    "        self.name = name\n",
    "\n",
    "    def send(self, message):\n",
    "        print(f\"{self.name} sends: {message}\")\n",
    "        self._mediator.send_message(self, message)\n",
    "\n",
    "    def receive_message(self, sender, message):\n",
    "        print(f\"{self.name} receives from {sender.name}: {message}\")\n",
    "\n",
    "# Client code\n",
    "def main():\n",
    "    mediator = ChatMediator()\n",
    "\n",
    "    participant1 = Participant(\"Alice\", mediator)\n",
    "    participant2 = Participant(\"Bob\", mediator)\n",
    "    participant3 = Participant(\"Charlie\", mediator)\n",
    "\n",
    "    mediator.add_participant(participant1)\n",
    "    mediator.add_participant(participant2)\n",
    "    mediator.add_participant(participant3)\n",
    "\n",
    "    # Participants communicate through the mediator\n",
    "    participant1.send(\"Hello, everyone!\")\n",
    "\n",
    "main()\n"
   ]
  },
  {
   "cell_type": "markdown",
   "metadata": {},
   "source": [
    "Mediator is an abstract class defining the interface for communication between colleagues.\n",
    "\n",
    "ChatMediator is a concrete mediator class that keeps track of participants and facilitates communication between them.\n",
    "\n",
    "Colleague is an abstract class representing participants that communicate through the mediator.\n",
    "\n",
    "Participant is a concrete colleague class that sends and receives messages through the mediator.\n",
    "\n",
    "The client code (main function) creates a ChatMediator instance and several Participant instances. Participants can send messages to each other through the mediator without having direct references to one another.\n",
    "\n",
    "The Mediator pattern promotes a decoupled communication structure between objects, making it easier to extend and maintain the system."
   ]
  }
 ],
 "metadata": {
  "kernelspec": {
   "display_name": "Python 3",
   "language": "python",
   "name": "python3"
  },
  "language_info": {
   "codemirror_mode": {
    "name": "ipython",
    "version": 3
   },
   "file_extension": ".py",
   "mimetype": "text/x-python",
   "name": "python",
   "nbconvert_exporter": "python",
   "pygments_lexer": "ipython3",
   "version": "3.12.0"
  }
 },
 "nbformat": 4,
 "nbformat_minor": 2
}
