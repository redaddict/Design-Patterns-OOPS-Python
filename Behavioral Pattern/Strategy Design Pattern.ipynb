{
 "cells": [
  {
   "cell_type": "markdown",
   "metadata": {},
   "source": [
    "* Strategy Design Pattern*\n",
    "The Strategy Pattern is similar to the State Pattern, except that the client passes in the algorithm\n",
    "that the context should run and the execution of the algorithm does not affect the state of the context.\n",
    "The algorithm should be contained within a class that implements the particular strategies interface.\n",
    "An application that sorts data is a good example of where you can incorporate the Strategy pattern.\n",
    "There are many methods of sorting a set of data. E.g., Quicksort, Mergesort, Introsort.\n",
    "The user interface of the client application can provide a drop-down menu to allow the user to try the\n",
    "different sorting algorithms.\n",
    "Upon user selection, a reference to the algorithm will be passed to the context and processed using\n",
    "this new algorithm instead.\n",
    "The Strategy and State appear very similar, a good way to differentiate them is to consider whether\n",
    "the context is considered to be in a new state or not at various times in the lifecycle. \n",
    "In the Strategy, an object/context runs a chosen algorithm, but the state of the object/context doesn't\n",
    "change in case you want to try a different algorithm.\n",
    "Software Plugins can be implemented using the Strategy pattern."
   ]
  },
  {
   "cell_type": "markdown",
   "metadata": {},
   "source": [
    "Strategy Interface: An interface that all Strategy subclasses/algorithms must implement.\n",
    "\n",
    "Concrete Strategy: The subclass that implements an alternative algorithm.\n",
    "\n",
    "Context: This is the object that receives the concrete strategy in order to execute it."
   ]
  },
  {
   "cell_type": "code",
   "execution_count": 1,
   "metadata": {},
   "outputs": [
    {
     "name": "stdout",
     "output_type": "stream",
     "text": [
      "Paid $100 using Credit Card\n",
      "Paid $50 using PayPal\n",
      "Paid $200 using Bank Transfer\n"
     ]
    }
   ],
   "source": [
    "from abc import ABC, abstractmethod\n",
    "\n",
    "# Strategy interface\n",
    "class PaymentStrategy(ABC):\n",
    "    @abstractmethod\n",
    "    def pay(self, amount):\n",
    "        pass\n",
    "\n",
    "# Concrete Strategies\n",
    "class CreditCardPayment(PaymentStrategy):\n",
    "    def pay(self, amount):\n",
    "        return f\"Paid ${amount} using Credit Card\"\n",
    "\n",
    "class PayPalPayment(PaymentStrategy):\n",
    "    def pay(self, amount):\n",
    "        return f\"Paid ${amount} using PayPal\"\n",
    "\n",
    "class BankTransferPayment(PaymentStrategy):\n",
    "    def pay(self, amount):\n",
    "        return f\"Paid ${amount} using Bank Transfer\"\n",
    "\n",
    "# Context\n",
    "class ShoppingCart:\n",
    "    def __init__(self, payment_strategy):\n",
    "        self._payment_strategy = payment_strategy\n",
    "\n",
    "    def checkout(self, amount):\n",
    "        return self._payment_strategy.pay(amount)\n",
    "\n",
    "# Example Usage\n",
    "credit_card_payment = CreditCardPayment()\n",
    "paypal_payment = PayPalPayment()\n",
    "bank_transfer_payment = BankTransferPayment()\n",
    "\n",
    "cart1 = ShoppingCart(credit_card_payment)\n",
    "cart2 = ShoppingCart(paypal_payment)\n",
    "cart3 = ShoppingCart(bank_transfer_payment)\n",
    "\n",
    "print(cart1.checkout(100))  # Output: Paid $100 using Credit Card\n",
    "print(cart2.checkout(50))   # Output: Paid $50 using PayPal\n",
    "print(cart3.checkout(200))  # Output: Paid $200 using Bank Transfer\n"
   ]
  },
  {
   "cell_type": "markdown",
   "metadata": {},
   "source": [
    "In this example:\n",
    "\n",
    "PaymentStrategy (Strategy Interface):\n",
    "This is the strategy interface that declares the method pay. Concrete strategies (CreditCardPayment, PayPalPayment, BankTransferPayment) implement this interface.\n",
    "\n",
    "Concrete Strategies:\n",
    "These are the concrete classes representing different payment strategies. They implement the PaymentStrategy interface and provide their own implementation of the pay method.\n",
    "\n",
    "ShoppingCart (Context):\n",
    "This is the context class that holds a reference to a payment strategy. The checkout method delegates the payment operation to the current payment strategy.\n",
    "\n",
    "Example Usage:\n",
    "The client code creates instances of concrete strategies and uses them to initialize ShoppingCart objects. The checkout method of each shopping cart performs the payment operation based on the selected payment strategy.\n",
    "\n",
    "The Strategy pattern is beneficial when you have a family of algorithms or behaviors and want to make them interchangeable. It allows you to vary the algorithm independently of clients that use it. In the example, different payment strategies can be easily swapped into the ShoppingCart without changing its code."
   ]
  }
 ],
 "metadata": {
  "kernelspec": {
   "display_name": "Python 3",
   "language": "python",
   "name": "python3"
  },
  "language_info": {
   "codemirror_mode": {
    "name": "ipython",
    "version": 3
   },
   "file_extension": ".py",
   "mimetype": "text/x-python",
   "name": "python",
   "nbconvert_exporter": "python",
   "pygments_lexer": "ipython3",
   "version": "3.12.0"
  }
 },
 "nbformat": 4,
 "nbformat_minor": 2
}
