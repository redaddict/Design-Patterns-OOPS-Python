{
 "cells": [
  {
   "cell_type": "markdown",
   "metadata": {},
   "source": [
    "*Memento Design Pattern*\n",
    "\n",
    "Throughout the lifecycle of an application, an objects state may change. You might want to store a copy of the current state in case of later retrieval. E.g., when writing a document, you may want to auto save the current state every 10 minutes. Or you have a game, and you want to save the current\n",
    "position of your player in the level, with its score and current inventory.\n",
    "You can use the Memento pattern for saving a copy of state and for later retrieval if necessary. \n",
    "The Memento pattern, like the Command pattern, is also commonly used for implementing UNDO/REDO functionality within your application."
   ]
  },
  {
   "cell_type": "markdown",
   "metadata": {},
   "source": [
    "Originator: The originator is an object with an internal state that changes on occasion.\n",
    "\n",
    "Caretaker: (Guardian) A Class that asks the Originator to create or restore Mementos. The Caretaker than saves them into a cache or store of mementos. \n",
    "\n",
    "Memento: A copy of the internal state of the Originator that can later be restored back into the Originator to replace its current state."
   ]
  },
  {
   "cell_type": "code",
   "execution_count": 1,
   "metadata": {},
   "outputs": [
    {
     "name": "stdout",
     "output_type": "stream",
     "text": [
      "Current State: State 1\n"
     ]
    }
   ],
   "source": [
    "import copy\n",
    "\n",
    "# Originator\n",
    "class Originator:\n",
    "    def __init__(self, state):\n",
    "        self._state = state\n",
    "\n",
    "    def get_state(self):\n",
    "        return self._state\n",
    "\n",
    "    def set_state(self, state):\n",
    "        self._state = state\n",
    "\n",
    "    def create_memento(self):\n",
    "        return Memento(copy.deepcopy(self._state))\n",
    "\n",
    "    def restore_from_memento(self, memento):\n",
    "        self._state = memento.get_state()\n",
    "\n",
    "# Memento\n",
    "class Memento:\n",
    "    def __init__(self, state):\n",
    "        self._state = state\n",
    "\n",
    "    def get_state(self):\n",
    "        return self._state\n",
    "\n",
    "# Caretaker\n",
    "class Caretaker:\n",
    "    def __init__(self):\n",
    "        self._mementos = []\n",
    "\n",
    "    def add_memento(self, memento):\n",
    "        self._mementos.append(memento)\n",
    "\n",
    "    def get_memento(self, index):\n",
    "        return self._mementos[index]\n",
    "\n",
    "# Example Usage\n",
    "originator = Originator(\"State 1\")\n",
    "caretaker = Caretaker()\n",
    "\n",
    "# Save state\n",
    "caretaker.add_memento(originator.create_memento())\n",
    "\n",
    "# Change state\n",
    "originator.set_state(\"State 2\")\n",
    "\n",
    "# Save state again\n",
    "caretaker.add_memento(originator.create_memento())\n",
    "\n",
    "# Restore to the first state\n",
    "originator.restore_from_memento(caretaker.get_memento(0))\n",
    "\n",
    "print(\"Current State:\", originator.get_state())  # Output: Current State: State 1\n"
   ]
  },
  {
   "cell_type": "markdown",
   "metadata": {},
   "source": [
    "\n",
    "In this example:\n",
    "\n",
    "Originator:\n",
    "This is the object for which the state needs to be saved and restored. It has methods to get and set its internal state, as well as methods to create a memento (snapshot) of its current state and restore its state from a memento.\n",
    "\n",
    "Memento:\n",
    "This is the object that represents the saved state of the originator. It only exposes methods to get the state.\n",
    "\n",
    "Caretaker:\n",
    "This is the object that keeps track of multiple mementos. It has methods to add a memento and retrieve a memento based on an index.\n",
    "\n",
    "The example demonstrates creating an Originator object, changing its state, saving the state using Memento, and restoring the state from a previous memento using the Caretaker.\n",
    "\n",
    "The Memento pattern is beneficial when you need to implement undo/redo functionality, snapshotting, or any scenario where you want to capture and restore an object's internal state. It provides a way to encapsulate the object's state and control the visibility of that state."
   ]
  }
 ],
 "metadata": {
  "kernelspec": {
   "display_name": "Python 3",
   "language": "python",
   "name": "python3"
  },
  "language_info": {
   "codemirror_mode": {
    "name": "ipython",
    "version": 3
   },
   "file_extension": ".py",
   "mimetype": "text/x-python",
   "name": "python",
   "nbconvert_exporter": "python",
   "pygments_lexer": "ipython3",
   "version": "3.12.0"
  }
 },
 "nbformat": 4,
 "nbformat_minor": 2
}
