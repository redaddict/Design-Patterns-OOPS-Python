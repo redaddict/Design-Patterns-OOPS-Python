{
 "cells": [
  {
   "cell_type": "markdown",
   "metadata": {},
   "source": [
    "*Template Method Design Pattern*\n",
    "\n",
    "In the Template Method pattern, you create an abstract class (template) that contains a Template\n",
    "Method that is a series of instructions that are a combination of abstract and hook methods.\n",
    "Abstract methods need to be overridden in the subclasses that extend the abstract (template) class.\n",
    "Hook methods normally have empty bodies in the abstract class. Subclasses can optionally\n",
    "override the hook methods to create custom implementations.\n",
    "So, what you have, is an abstract class, with several types of methods, being the main template\n",
    "method, and a combination of abstract and/or hooks, that can be extended by different subclasses\n",
    "that all have the option of customizing the behavior of the template class without changing its\n",
    "underlying algorithm structure.\n",
    "Template methods are useful to help you factor out common behavior within your library classes.\n",
    "Note that this pattern describes the behavior of a method and how its inner method calls behave. \n",
    "Hooks are default behavior and can be overridden. They are normally empty by default.\n",
    "Abstract methods, must be overridden in the concrete class that extends the template class.\n"
   ]
  },
  {
   "cell_type": "markdown",
   "metadata": {},
   "source": [
    "Abstract Class: Defines the template method and the primitive steps as abstract and/or hook methods.\n",
    "\n",
    "Concrete Class: A subclass that extends some or all of the abstract class primitive methods."
   ]
  },
  {
   "cell_type": "code",
   "execution_count": 1,
   "metadata": {},
   "outputs": [
    {
     "name": "stdout",
     "output_type": "stream",
     "text": [
      "ConcreteClass1: Operation 1ConcreteClass1: Operation 2\n",
      "ConcreteClass2: Operation 1ConcreteClass2: Operation 2\n"
     ]
    }
   ],
   "source": [
    "from abc import ABC, abstractmethod\n",
    "\n",
    "# Abstract Class with Template Method\n",
    "class AbstractClass(ABC):\n",
    "    def template_method(self):\n",
    "        result = self.operation1()\n",
    "        result += self.operation2()\n",
    "        return result\n",
    "\n",
    "    @abstractmethod\n",
    "    def operation1(self):\n",
    "        pass\n",
    "\n",
    "    @abstractmethod\n",
    "    def operation2(self):\n",
    "        pass\n",
    "\n",
    "# Concrete Class 1\n",
    "class ConcreteClass1(AbstractClass):\n",
    "    def operation1(self):\n",
    "        return \"ConcreteClass1: Operation 1\"\n",
    "\n",
    "    def operation2(self):\n",
    "        return \"ConcreteClass1: Operation 2\"\n",
    "\n",
    "# Concrete Class 2\n",
    "class ConcreteClass2(AbstractClass):\n",
    "    def operation1(self):\n",
    "        return \"ConcreteClass2: Operation 1\"\n",
    "\n",
    "    def operation2(self):\n",
    "        return \"ConcreteClass2: Operation 2\"\n",
    "\n",
    "# Client Code\n",
    "def client_code(abstract_class):\n",
    "    result = abstract_class.template_method()\n",
    "    print(result)\n",
    "\n",
    "# Example Usage\n",
    "concrete_class_1 = ConcreteClass1()\n",
    "concrete_class_2 = ConcreteClass2()\n",
    "\n",
    "client_code(concrete_class_1)\n",
    "client_code(concrete_class_2)\n"
   ]
  },
  {
   "cell_type": "markdown",
   "metadata": {},
   "source": [
    "In this example:\n",
    "\n",
    "AbstractClass (Abstract Class):\n",
    "This is the abstract class that declares the template method (template_method) which defines the algorithm's structure. It also declares abstract methods (operation1 and operation2) that concrete subclasses must implement.\n",
    "\n",
    "Concrete Classes (ConcreteClass1, ConcreteClass2):\n",
    "These are concrete classes that inherit from the abstract class. They implement the abstract methods to provide specific implementations for operation1 and operation2.\n",
    "\n",
    "Client Code:\n",
    "The client code uses instances of concrete classes and calls the template method. The template method calls the abstract operations, and the concrete subclasses provide their specific implementations.\n",
    "\n",
    "The Template Method pattern is useful when you have an algorithm with a common structure but with certain steps that can be customized by subclasses. It promotes reusability and allows you to define the overall structure of the algorithm in the superclass while letting subclasses provide their own implementations for specific steps.\n",
    "\n",
    "In the example, AbstractClass defines the template method that calls operation1 and operation2. Concrete subclasses (ConcreteClass1 and ConcreteClass2) provide their specific implementations for these operations. The client code can use the template method without worrying about the details of the algorithm's structure."
   ]
  }
 ],
 "metadata": {
  "kernelspec": {
   "display_name": "Python 3",
   "language": "python",
   "name": "python3"
  },
  "language_info": {
   "codemirror_mode": {
    "name": "ipython",
    "version": 3
   },
   "file_extension": ".py",
   "mimetype": "text/x-python",
   "name": "python",
   "nbconvert_exporter": "python",
   "pygments_lexer": "ipython3",
   "version": "3.12.0"
  }
 },
 "nbformat": 4,
 "nbformat_minor": 2
}
