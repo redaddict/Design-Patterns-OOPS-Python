{
 "cells": [
  {
   "cell_type": "markdown",
   "metadata": {},
   "source": [
    "*Command Pattern*\n",
    "\n",
    "The Command pattern is a behavioral design pattern, in which an abstraction exists between an object that invokes a command, and the object that performs it.\n",
    "\n",
    "E.g., a button will call the Invoker, that will call a pre-registered Command, that the Receiver will perform.\n",
    "\n",
    "A Concrete Class will delegate a request to a command object, instead of implementing the request directly.\n",
    "\n",
    "Using a command design pattern allows you to separate concerns and to solve problems of the concerns independently of each other.\n",
    "\n",
    "E.g., logging the execution of a command and its outcome.\n",
    "\n",
    "The command pattern is a good solution for implementing UNDO/REDO functionality into your application."
   ]
  },
  {
   "cell_type": "markdown",
   "metadata": {},
   "source": [
    "The Command Pattern typically involves the following components:\n",
    "\n",
    "Command Interface/Abstract Class: This defines the interface for executing a particular operation.\n",
    "\n",
    "Concrete Command Classes: These are the classes that implement the Command interface. Each concrete command class is responsible for carrying out a specific operation.\n",
    "\n",
    "Invoker: This is the class that asks the command to execute the request.\n",
    "\n",
    "Receiver: This is the class that actually performs the operation.\n",
    "\n",
    "Client: The client is responsible for creating the command objects and associating them with the appropriate receivers."
   ]
  },
  {
   "cell_type": "code",
   "execution_count": 3,
   "metadata": {},
   "outputs": [
    {
     "name": "stdout",
     "output_type": "stream",
     "text": [
      "Light is ON\n",
      "Light is OFF\n"
     ]
    }
   ],
   "source": [
    "# Command Interface/Abstract Class\n",
    "class Command:\n",
    "    def execute(self):\n",
    "        pass\n",
    "\n",
    "# Concrete Command Classes\n",
    "class LightOnCommand(Command):\n",
    "    def __init__(self, light):\n",
    "        self.light = light\n",
    "\n",
    "    def execute(self):\n",
    "        self.light.turn_on()\n",
    "\n",
    "class LightOffCommand(Command):\n",
    "    def __init__(self, light):\n",
    "        self.light = light\n",
    "\n",
    "    def execute(self):\n",
    "        self.light.turn_off()\n",
    "\n",
    "# Receiver\n",
    "class Light:\n",
    "    def turn_on(self):\n",
    "        print(\"Light is ON\")\n",
    "\n",
    "    def turn_off(self):\n",
    "        print(\"Light is OFF\")\n",
    "\n",
    "# Invoker\n",
    "class RemoteControl:\n",
    "    def __init__(self):\n",
    "        self.command = None\n",
    "\n",
    "    def set_command(self, command):\n",
    "        self.command = command\n",
    "\n",
    "    def press_button(self):\n",
    "        self.command.execute()\n",
    "\n",
    "# Client\n",
    "if __name__ == \"__main__\":\n",
    "    # Creating instances\n",
    "    light = Light()\n",
    "    light_on = LightOnCommand(light)\n",
    "    light_off = LightOffCommand(light)\n",
    "\n",
    "    remote = RemoteControl()\n",
    "\n",
    "    # Turning on the light\n",
    "    remote.set_command(light_on)\n",
    "    remote.press_button()\n",
    "\n",
    "    # Turning off the light\n",
    "    remote.set_command(light_off)\n",
    "    remote.press_button()\n"
   ]
  },
  {
   "cell_type": "markdown",
   "metadata": {},
   "source": [
    "In this example, the Light class is the receiver, and the LightOnCommand and LightOffCommand are concrete command classes. The RemoteControl is the invoker, and it can be associated with different commands at runtime, allowing for flexibility and decoupling between the sender and receiver of a request."
   ]
  }
 ],
 "metadata": {
  "kernelspec": {
   "display_name": "Python 3",
   "language": "python",
   "name": "python3"
  },
  "language_info": {
   "codemirror_mode": {
    "name": "ipython",
    "version": 3
   },
   "file_extension": ".py",
   "mimetype": "text/x-python",
   "name": "python",
   "nbconvert_exporter": "python",
   "pygments_lexer": "ipython3",
   "version": "3.12.0"
  }
 },
 "nbformat": 4,
 "nbformat_minor": 2
}
