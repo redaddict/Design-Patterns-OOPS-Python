{
 "cells": [
  {
   "cell_type": "markdown",
   "metadata": {},
   "source": [
    "*Iterator pattern*\n",
    "\n",
    "The Iterator will commonly contain two methods that perform the following concepts.\n",
    "\n",
    "next: returns the next object in the aggregate (collection, object).\n",
    "\n",
    "has_next: returns a Boolean indicating if the Iterable is at the end of the iteration or not.\n",
    "\n",
    "The benefits of using the Iterator pattern are that the client can traverse a collection of\n",
    "aggregates(objects) without needing to understand their internal representations and/or data\n",
    "structures"
   ]
  },
  {
   "cell_type": "markdown",
   "metadata": {},
   "source": [
    "Iterator Interface: The Interface for an object to implement.\n",
    "\n",
    "Concrete Iterator: (Iterable) The instantiated object that implements the iterator and contains a collection of aggregates.\n",
    "\n",
    "Aggregate Interface: An interface for defining an aggregate (object).\n",
    "\n",
    "Concrete Aggregate: The object that implements the Aggregate interface."
   ]
  },
  {
   "cell_type": "code",
   "execution_count": 1,
   "metadata": {},
   "outputs": [
    {
     "name": "stdout",
     "output_type": "stream",
     "text": [
      "Iterating through numbers:\n",
      "1\n",
      "2\n",
      "3\n"
     ]
    }
   ],
   "source": [
    "from collections.abc import Iterable, Iterator\n",
    "\n",
    "# Concrete Iterator class\n",
    "class NumberIterator(Iterator):\n",
    "    def __init__(self, numbers):\n",
    "        self._numbers = numbers\n",
    "        self._index = 0\n",
    "\n",
    "    def __next__(self):\n",
    "        if self._index < len(self._numbers):\n",
    "            result = self._numbers[self._index]\n",
    "            self._index += 1\n",
    "            return result\n",
    "        else:\n",
    "            raise StopIteration\n",
    "\n",
    "# Concrete Aggregate class\n",
    "class NumberList(Iterable):\n",
    "    def __init__(self):\n",
    "        self._numbers = []\n",
    "\n",
    "    def add_number(self, number):\n",
    "        self._numbers.append(number)\n",
    "\n",
    "    def __iter__(self):\n",
    "        return NumberIterator(self._numbers)\n",
    "\n",
    "# Client code\n",
    "def iterate_numbers():\n",
    "    number_list = NumberList()\n",
    "    number_list.add_number(1)\n",
    "    number_list.add_number(2)\n",
    "    number_list.add_number(3)\n",
    "\n",
    "    iterator = iter(number_list)\n",
    "\n",
    "    print(\"Iterating through numbers:\")\n",
    "    for number in iterator:\n",
    "        print(number)\n",
    "\n",
    "# Call the client code\n",
    "iterate_numbers()\n"
   ]
  },
  {
   "cell_type": "markdown",
   "metadata": {},
   "source": [
    "In this example:\n",
    "\n",
    "NumberIterator is a concrete iterator class implementing the Iterator interface. It keeps track of the current index while iterating through a list of numbers.\n",
    "\n",
    "NumberList is a concrete aggregate class implementing the Iterable interface. It contains a list of numbers and provides an iterator by implementing the __iter__ method.\n",
    "\n",
    "The client code (iterate_numbers function) creates a NumberList instance, adds numbers to it, and then iterates through the numbers using an iterator.\n",
    "\n",
    "This example demonstrates the basic usage of the Iterator pattern in Python. It allows you to iterate through the elements of a collection without exposing the internal representation of the collection."
   ]
  }
 ],
 "metadata": {
  "kernelspec": {
   "display_name": "Python 3",
   "language": "python",
   "name": "python3"
  },
  "language_info": {
   "codemirror_mode": {
    "name": "ipython",
    "version": 3
   },
   "file_extension": ".py",
   "mimetype": "text/x-python",
   "name": "python",
   "nbconvert_exporter": "python",
   "pygments_lexer": "ipython3",
   "version": "3.12.0"
  }
 },
 "nbformat": 4,
 "nbformat_minor": 2
}
