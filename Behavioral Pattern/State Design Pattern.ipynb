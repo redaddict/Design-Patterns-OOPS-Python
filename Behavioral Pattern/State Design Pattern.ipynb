{
 "cells": [
  {
   "cell_type": "markdown",
   "metadata": {},
   "source": [
    "*State Design Pattern*\n",
    "\n",
    "Not to be confused with object state, i.e., one of more attributes that can be copied as a snapshot,the State Pattern is more concerned about changing the handle of an object's method dynamically.\n",
    "This makes an object itself more dynamic and may reduce the need of many conditional statements.\n",
    "Instead of storing a value in an attribute, and then then using conditional statements within an objects method to produce different output, a subclass is assigned as a handle instead. The object/context doesn't need to know about the inner working of the assigned subclass that the task was\n",
    "delegated to. \n",
    "In the state pattern, the behavior of an objects state is encapsulated within the subclasses that are dynamically assigned to handle it\n"
   ]
  },
  {
   "cell_type": "markdown",
   "metadata": {},
   "source": [
    "State Interface: An interface for encapsulating the behavior associated with a particular state of the Context.\n",
    "\n",
    "Concrete Subclasses: Each subclass implements a behavior associated with the particular state.\n",
    "\n",
    "Context: This is the object where the state is defined, but the execution of the state behavior is redirected to the concrete subclass."
   ]
  },
  {
   "cell_type": "code",
   "execution_count": 1,
   "metadata": {},
   "outputs": [
    {
     "name": "stdout",
     "output_type": "stream",
     "text": [
      "Concrete State 1: Handling request\n",
      "Concrete State 2: Handling request\n"
     ]
    }
   ],
   "source": [
    "from abc import ABC, abstractmethod\n",
    "\n",
    "# State interface\n",
    "class State(ABC):\n",
    "    @abstractmethod\n",
    "    def handle(self):\n",
    "        pass\n",
    "\n",
    "# Concrete State 1\n",
    "class ConcreteState1(State):\n",
    "    def handle(self):\n",
    "        return \"Concrete State 1: Handling request\"\n",
    "\n",
    "# Concrete State 2\n",
    "class ConcreteState2(State):\n",
    "    def handle(self):\n",
    "        return \"Concrete State 2: Handling request\"\n",
    "\n",
    "# Context\n",
    "class Context:\n",
    "    def __init__(self, state):\n",
    "        self._state = state\n",
    "\n",
    "    def set_state(self, state):\n",
    "        self._state = state\n",
    "\n",
    "    def request(self):\n",
    "        return self._state.handle()\n",
    "\n",
    "# Example Usage\n",
    "state1 = ConcreteState1()\n",
    "state2 = ConcreteState2()\n",
    "\n",
    "context = Context(state1)\n",
    "print(context.request())  # Output: Concrete State 1: Handling request\n",
    "\n",
    "context.set_state(state2)\n",
    "print(context.request())  # Output: Concrete State 2: Handling request\n"
   ]
  },
  {
   "cell_type": "markdown",
   "metadata": {},
   "source": [
    "In this example:\n",
    "\n",
    "State (Interface):\n",
    "This is the state interface that declares the handle method. Concrete states will implement this interface.\n",
    "\n",
    "Concrete States (ConcreteState1, ConcreteState2):\n",
    "These are concrete classes representing different states. They implement the State interface and provide their own implementation of the handle method.\n",
    "\n",
    "Context:\n",
    "This is the context class that maintains a reference to the current state. It has a method request that delegates the handling of the request to the current state.\n",
    "\n",
    "Example Usage:\n",
    "The client code creates instances of concrete states (ConcreteState1, ConcreteState2) and sets them in the context. The context's request method is called to perform the operation based on the current state.\n",
    "\n",
    "The State pattern is useful when an object's behavior depends on its state, and the state-specific behavior should be defined and managed independently. It allows objects to switch between different states without changing their interface.\n",
    "\n",
    "In the example, the Context can switch between different states (ConcreteState1 and ConcreteState2), and the behavior of the request method changes accordingly based on the current state."
   ]
  }
 ],
 "metadata": {
  "kernelspec": {
   "display_name": "Python 3",
   "language": "python",
   "name": "python3"
  },
  "language_info": {
   "codemirror_mode": {
    "name": "ipython",
    "version": 3
   },
   "file_extension": ".py",
   "mimetype": "text/x-python",
   "name": "python",
   "nbconvert_exporter": "python",
   "pygments_lexer": "ipython3",
   "version": "3.12.0"
  }
 },
 "nbformat": 4,
 "nbformat_minor": 2
}
