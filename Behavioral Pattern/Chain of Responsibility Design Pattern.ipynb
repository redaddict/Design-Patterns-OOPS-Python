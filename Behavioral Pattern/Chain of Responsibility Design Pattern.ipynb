{
 "cells": [
  {
   "cell_type": "markdown",
   "metadata": {},
   "source": [
    "*Chain of Responsibility Design Pattern*\n",
    "\n",
    "Chain of Responsibility pattern is a behavioral pattern used to achieve loose coupling in software design.\n",
    "In this pattern, an object is passed to a Successor, and depending on some kind of logic, will or won't be passed onto another successor and processed. There can be any number of different successors and successors can be re-processed recursively. \n",
    "This process of passing objects through multiple successors is called a chain.\n",
    "The object that is passed between each successor does not know about which successor will handle it. \n",
    "It is an independent object that may or may not be processed by a particular successor before being passed onto the next."
   ]
  },
  {
   "cell_type": "markdown",
   "metadata": {},
   "source": [
    "Handler Interface: A common interface for handling and passing objects through each\n",
    "successor.\n",
    "\n",
    "Concrete Handler: The class acting as the Successor handling the requests and passing\n",
    "onto the next.\n",
    "\n",
    "Client: The application or class that initiates the call to the first concrete handler (successor) in\n",
    "the chain."
   ]
  },
  {
   "cell_type": "code",
   "execution_count": 2,
   "metadata": {},
   "outputs": [
    {
     "name": "stdout",
     "output_type": "stream",
     "text": [
      "Successor1 payload = 1\n",
      "Successor2 payload = 0\n",
      "Successor1 payload = 0\n",
      "Successor2 payload = -1\n",
      "Finished result = -1\n"
     ]
    }
   ],
   "source": [
    "import random\n",
    "from abc import ABCMeta, abstractmethod\n",
    "class IHandler(metaclass=ABCMeta):\n",
    " #The Handler Interface that the Successors should implement\"\n",
    "  @staticmethod\n",
    "  @abstractmethod\n",
    "  def handle(payload):\n",
    "    #\"A method to implement\"\n",
    "    pass     \n",
    "class Successor1(IHandler):\n",
    "   #\"A Concrete Handler\"\n",
    "  @staticmethod\n",
    "  def handle(payload):\n",
    "    print(f\"Successor1 payload = {payload}\")\n",
    "    test = random.randint(1, 2)\n",
    "    if test == 1:\n",
    "        payload = payload + 1\n",
    "        payload = Successor1().handle(payload)\n",
    "    if test == 2:\n",
    "        payload = payload - 1\n",
    "        payload = Successor2().handle(payload)\n",
    "    return payload\n",
    "class Successor2(IHandler):\n",
    " #\"A Concrete Handler\"\n",
    "   @staticmethod\n",
    "   def handle(payload):\n",
    "     print(f\"Successor2 payload = {payload}\")\n",
    "     test = random.randint(1, 3)\n",
    "     if test == 1:\n",
    "       payload = payload * 2\n",
    "       payload = Successor1().handle(payload)\n",
    "     if test == 2:\n",
    "       payload = payload / 2\n",
    "       payload = Successor2().handle(payload)\n",
    "     return payload\n",
    "class Chain():\n",
    " #\"A chain with a default first successor\"\n",
    "   @staticmethod\n",
    "   def start(payload):\n",
    " #\"Setting the first successor that will modify the payload\"\n",
    "    return Successor1().handle(payload)\n",
    "# The Client\n",
    "CHAIN = Chain()\n",
    "PAYLOAD = 1\n",
    "OUT = CHAIN.start(PAYLOAD)\n",
    "print(f\"Finished result = {OUT}\")"
   ]
  },
  {
   "cell_type": "markdown",
   "metadata": {},
   "source": [
    "In this concept code, a chain is created with a default first successor. A number is passed to a\n",
    "successor, that then does a random test, and depending on the result will modify the number and\n",
    "then pass it onto the next successor. The process is randomized and will end at some point when\n",
    "there are no more successors designated."
   ]
  }
 ],
 "metadata": {
  "kernelspec": {
   "display_name": "Python 3",
   "language": "python",
   "name": "python3"
  },
  "language_info": {
   "codemirror_mode": {
    "name": "ipython",
    "version": 3
   },
   "file_extension": ".py",
   "mimetype": "text/x-python",
   "name": "python",
   "nbconvert_exporter": "python",
   "pygments_lexer": "ipython3",
   "version": "3.12.0"
  }
 },
 "nbformat": 4,
 "nbformat_minor": 2
}
