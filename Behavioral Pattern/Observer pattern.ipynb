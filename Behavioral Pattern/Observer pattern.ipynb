{
 "cells": [
  {
   "cell_type": "markdown",
   "metadata": {},
   "source": [
    "*Observer pattern*\n",
    "\n",
    "The Observer pattern is a software design pattern in which an object, called the Subject(Observable), manages a list of dependents, called Observers, and notifies them automatically of any internal state changes by calling one of their methods. \n",
    "The Observer pattern follows the publish/subscribe concept. \n",
    "A subscriber, subscribes to a publisher.\n",
    "The publisher then notifies the subscribers when necessary.\n",
    "The observer stores state that should be consistent with the subject. The observer only needs to store what is necessary for its own purposes."
   ]
  },
  {
   "cell_type": "markdown",
   "metadata": {},
   "source": [
    "Subject Interface: (Observable Interface) The interface that the subject should implement.\n",
    "\n",
    "Concrete Subject: (Observable) The object that is the subject.\n",
    "\n",
    "Observer Interface: The interface that the observer should implement.\n",
    "\n",
    "Concrete Observer: The object that is the observer. There can be a variable number of\n",
    "\n",
    "observers that can subscribe/unsubscribe during runtime."
   ]
  },
  {
   "cell_type": "code",
   "execution_count": 1,
   "metadata": {},
   "outputs": [
    {
     "name": "stdout",
     "output_type": "stream",
     "text": [
      "Performing action: State has been updated.\n",
      "Observer A received update: State has been updated.\n",
      "Observer B received update: State has been updated.\n"
     ]
    }
   ],
   "source": [
    "from abc import ABC, abstractmethod\n",
    "\n",
    "# Observer interface\n",
    "class Observer(ABC):\n",
    "    @abstractmethod\n",
    "    def update(self, message):\n",
    "        pass\n",
    "\n",
    "# Subject class\n",
    "class Subject:\n",
    "    def __init__(self):\n",
    "        self._observers = []\n",
    "\n",
    "    def add_observer(self, observer):\n",
    "        self._observers.append(observer)\n",
    "\n",
    "    def remove_observer(self, observer):\n",
    "        self._observers.remove(observer)\n",
    "\n",
    "    def notify_observers(self, message):\n",
    "        for observer in self._observers:\n",
    "            observer.update(message)\n",
    "\n",
    "    def perform_action(self):\n",
    "        # Some action that may change the subject's state\n",
    "        message = \"State has been updated.\"\n",
    "        print(f\"Performing action: {message}\")\n",
    "        self.notify_observers(message)\n",
    "\n",
    "# Concrete Observer classes\n",
    "class ConcreteObserverA(Observer):\n",
    "    def update(self, message):\n",
    "        print(f\"Observer A received update: {message}\")\n",
    "\n",
    "class ConcreteObserverB(Observer):\n",
    "    def update(self, message):\n",
    "        print(f\"Observer B received update: {message}\")\n",
    "\n",
    "# Main execution function\n",
    "def run_example():\n",
    "    subject = Subject()\n",
    "\n",
    "    observer_a = ConcreteObserverA()\n",
    "    observer_b = ConcreteObserverB()\n",
    "\n",
    "    subject.add_observer(observer_a)\n",
    "    subject.add_observer(observer_b)\n",
    "\n",
    "    # Performing an action that notifies observers\n",
    "    subject.perform_action()\n",
    "\n",
    "# Call the main execution function\n",
    "run_example()\n"
   ]
  },
  {
   "cell_type": "markdown",
   "metadata": {},
   "source": [
    "In this example:\n",
    "\n",
    "Observer is the abstract base class for all concrete observers. It defines an update method that is called by the subject to notify the observer of a state change.\n",
    "\n",
    "Subject is the class that maintains a list of observers. It has methods to add, remove, and notify observers. The perform_action method simulates some action that may change the subject's state, and it notifies all observers.\n",
    "\n",
    "Concrete observer classes (ConcreteObserverA, ConcreteObserverB) implement the update method to specify how they should respond to updates from the subject.\n",
    "\n",
    "In the client code, an instance of Subject is created, and two observers are added to its list. When the perform_action method is called on the subject, both observers are notified and respond to the update."
   ]
  }
 ],
 "metadata": {
  "kernelspec": {
   "display_name": "Python 3",
   "language": "python",
   "name": "python3"
  },
  "language_info": {
   "codemirror_mode": {
    "name": "ipython",
    "version": 3
   },
   "file_extension": ".py",
   "mimetype": "text/x-python",
   "name": "python",
   "nbconvert_exporter": "python",
   "pygments_lexer": "ipython3",
   "version": "3.12.0"
  }
 },
 "nbformat": 4,
 "nbformat_minor": 2
}
