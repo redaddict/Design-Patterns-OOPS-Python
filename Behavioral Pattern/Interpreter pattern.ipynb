{
 "cells": [
  {
   "cell_type": "markdown",
   "metadata": {},
   "source": [
    "*Interpreter pattern*\n",
    "\n",
    "The Interpreter pattern helps to convert information from one language into another. \n",
    "The language can be anything such as words in a sentence, numerical formulas or even software code.\n",
    "The process is to convert the source information, into an Abstract Syntax Tree (AST) of Terminal and Non-Terminal expressions that all implement an interpret() method.\n",
    "A Non-Terminal expression is a combination of other Non-Terminal and/or Terminal expressions.\n",
    "Terminal means terminated, i.e., there is no further processing involved.\n",
    "An AST root starts with a Non-Terminal expression and then resolves down each branch until all expressions terminate."
   ]
  },
  {
   "cell_type": "markdown",
   "metadata": {},
   "source": [
    "Abstract Expression: Describe the method(s) that Terminal and Non-Terminal expressions should implement.\n",
    "\n",
    "Non-Terminal Expression: A composite of Terminal and/or Non-Terminal expressions. \n",
    "\n",
    "Terminal Expression: A leaf node Expression.\n",
    "\n",
    "Context: Context is state that can be passed through interpret operations if necessary.\n",
    "\n",
    "Client: Builds or is given an Abstract Syntax Tree to interpret."
   ]
  },
  {
   "cell_type": "code",
   "execution_count": 1,
   "metadata": {},
   "outputs": [
    {
     "name": "stdout",
     "output_type": "stream",
     "text": [
      "Evaluation result: 12\n"
     ]
    }
   ],
   "source": [
    "from abc import ABC, abstractmethod\n",
    "\n",
    "# Abstract Expression class\n",
    "class Expression(ABC):\n",
    "    @abstractmethod\n",
    "    def interpret(self, context):\n",
    "        pass\n",
    "\n",
    "# Terminal Expression class\n",
    "class Number(Expression):\n",
    "    def __init__(self, value):\n",
    "        self.value = value\n",
    "\n",
    "    def interpret(self, context):\n",
    "        return self.value\n",
    "\n",
    "# Non-terminal Expression class\n",
    "class Add(Expression):\n",
    "    def __init__(self, left, right):\n",
    "        self.left = left\n",
    "        self.right = right\n",
    "\n",
    "    def interpret(self, context):\n",
    "        return self.left.interpret(context) + self.right.interpret(context)\n",
    "\n",
    "# Non-terminal Expression class\n",
    "class Subtract(Expression):\n",
    "    def __init__(self, left, right):\n",
    "        self.left = left\n",
    "        self.right = right\n",
    "\n",
    "    def interpret(self, context):\n",
    "        return self.left.interpret(context) - self.right.interpret(context)\n",
    "\n",
    "# Client code\n",
    "def evaluate_expression():\n",
    "    # Represent the expression: 5 + (10 - 3)\n",
    "    expression = Add(Number(5), Subtract(Number(10), Number(3)))\n",
    "\n",
    "    result = expression.interpret(None)\n",
    "    print(f\"Evaluation result: {result}\")\n",
    "\n",
    "# Call the client code\n",
    "evaluate_expression()\n"
   ]
  },
  {
   "cell_type": "markdown",
   "metadata": {},
   "source": [
    "Expression is the abstract base class for all expressions. It declares the interpret method, which is implemented by concrete expression classes.\n",
    "\n",
    "Number is a terminal expression representing a numeric value.\n",
    "\n",
    "Add and Subtract are non-terminal expressions representing addition and subtraction operations, respectively. They contain references to other expressions.\n",
    "\n",
    "The client code, represented by the evaluate_expression function, creates an expression (5 + (10 - 3)) using the interpreter classes and then evaluates it.\n",
    "\n",
    "This example illustrates a basic use case of the Interpreter pattern for evaluating arithmetic expressions. The client code can be extended to handle more complex expressions and grammars as needed."
   ]
  }
 ],
 "metadata": {
  "kernelspec": {
   "display_name": "Python 3",
   "language": "python",
   "name": "python3"
  },
  "language_info": {
   "codemirror_mode": {
    "name": "ipython",
    "version": 3
   },
   "file_extension": ".py",
   "mimetype": "text/x-python",
   "name": "python",
   "nbconvert_exporter": "python",
   "pygments_lexer": "ipython3",
   "version": "3.12.0"
  }
 },
 "nbformat": 4,
 "nbformat_minor": 2
}
